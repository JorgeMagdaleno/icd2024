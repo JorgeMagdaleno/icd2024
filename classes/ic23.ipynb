{
 "cells": [
  {
   "cell_type": "markdown",
   "id": "8b4687ed-d6c4-4ce8-8c7c-66001b603a2c",
   "metadata": {},
   "source": [
    "> Installar dependencia"
   ]
  },
  {
   "cell_type": "code",
   "execution_count": 164,
   "id": "606eb496-1257-458c-8c05-0ad93673a11c",
   "metadata": {},
   "outputs": [
    {
     "name": "stdout",
     "output_type": "stream",
     "text": [
      "Requirement already satisfied: numpy in ./.venv/lib/python3.9/site-packages (2.0.2)\n",
      "\n",
      "\u001b[1m[\u001b[0m\u001b[34;49mnotice\u001b[0m\u001b[1;39;49m]\u001b[0m\u001b[39;49m A new release of pip is available: \u001b[0m\u001b[31;49m23.2.1\u001b[0m\u001b[39;49m -> \u001b[0m\u001b[32;49m24.2\u001b[0m\n",
      "\u001b[1m[\u001b[0m\u001b[34;49mnotice\u001b[0m\u001b[1;39;49m]\u001b[0m\u001b[39;49m To update, run: \u001b[0m\u001b[32;49mpip install --upgrade pip\u001b[0m\n",
      "Requirement already satisfied: pandas in ./.venv/lib/python3.9/site-packages (2.2.2)\n",
      "Requirement already satisfied: numpy>=1.22.4 in ./.venv/lib/python3.9/site-packages (from pandas) (2.0.2)\n",
      "Requirement already satisfied: python-dateutil>=2.8.2 in ./.venv/lib/python3.9/site-packages (from pandas) (2.9.0.post0)\n",
      "Requirement already satisfied: pytz>=2020.1 in ./.venv/lib/python3.9/site-packages (from pandas) (2024.1)\n",
      "Requirement already satisfied: tzdata>=2022.7 in ./.venv/lib/python3.9/site-packages (from pandas) (2024.1)\n",
      "Requirement already satisfied: six>=1.5 in ./.venv/lib/python3.9/site-packages (from python-dateutil>=2.8.2->pandas) (1.16.0)\n",
      "\n",
      "\u001b[1m[\u001b[0m\u001b[34;49mnotice\u001b[0m\u001b[1;39;49m]\u001b[0m\u001b[39;49m A new release of pip is available: \u001b[0m\u001b[31;49m23.2.1\u001b[0m\u001b[39;49m -> \u001b[0m\u001b[32;49m24.2\u001b[0m\n",
      "\u001b[1m[\u001b[0m\u001b[34;49mnotice\u001b[0m\u001b[1;39;49m]\u001b[0m\u001b[39;49m To update, run: \u001b[0m\u001b[32;49mpip install --upgrade pip\u001b[0m\n",
      "Collecting matplotlib\n",
      "  Obtaining dependency information for matplotlib from https://files.pythonhosted.org/packages/46/87/5f567fda78130a8394f9dcf3accb1b7b0c9baf0384307ef59032f5b1d17c/matplotlib-3.9.2-cp39-cp39-macosx_11_0_arm64.whl.metadata\n",
      "  Downloading matplotlib-3.9.2-cp39-cp39-macosx_11_0_arm64.whl.metadata (11 kB)\n",
      "Collecting contourpy>=1.0.1 (from matplotlib)\n",
      "  Obtaining dependency information for contourpy>=1.0.1 from https://files.pythonhosted.org/packages/ec/22/19f5b948367ab5260fb41d842c7a78dae645603881ea6bc39738bcfcabf6/contourpy-1.3.0-cp39-cp39-macosx_11_0_arm64.whl.metadata\n",
      "  Downloading contourpy-1.3.0-cp39-cp39-macosx_11_0_arm64.whl.metadata (5.4 kB)\n",
      "Collecting cycler>=0.10 (from matplotlib)\n",
      "  Obtaining dependency information for cycler>=0.10 from https://files.pythonhosted.org/packages/e7/05/c19819d5e3d95294a6f5947fb9b9629efb316b96de511b418c53d245aae6/cycler-0.12.1-py3-none-any.whl.metadata\n",
      "  Downloading cycler-0.12.1-py3-none-any.whl.metadata (3.8 kB)\n",
      "Collecting fonttools>=4.22.0 (from matplotlib)\n",
      "  Obtaining dependency information for fonttools>=4.22.0 from https://files.pythonhosted.org/packages/f3/d5/bff14bc918cb2f407e336de41f4dc85aa79888c5954a0d9e4ff4c29aebd9/fonttools-4.53.1-cp39-cp39-macosx_11_0_arm64.whl.metadata\n",
      "  Downloading fonttools-4.53.1-cp39-cp39-macosx_11_0_arm64.whl.metadata (162 kB)\n",
      "\u001b[2K     \u001b[90m━━━━━━━━━━━━━━━━━━━━━━━━━━━━━━━━━━━━━━━\u001b[0m \u001b[32m162.6/162.6 kB\u001b[0m \u001b[31m2.5 MB/s\u001b[0m eta \u001b[36m0:00:00\u001b[0ma \u001b[36m0:00:01\u001b[0m\n",
      "\u001b[?25hCollecting kiwisolver>=1.3.1 (from matplotlib)\n",
      "  Obtaining dependency information for kiwisolver>=1.3.1 from https://files.pythonhosted.org/packages/8a/be/a6ae58978772f685d48dd2e84460937761c53c4bbd84e42b0336473d9775/kiwisolver-1.4.7-cp39-cp39-macosx_11_0_arm64.whl.metadata\n",
      "  Downloading kiwisolver-1.4.7-cp39-cp39-macosx_11_0_arm64.whl.metadata (6.3 kB)\n",
      "Requirement already satisfied: numpy>=1.23 in ./.venv/lib/python3.9/site-packages (from matplotlib) (2.0.2)\n",
      "Requirement already satisfied: packaging>=20.0 in ./.venv/lib/python3.9/site-packages (from matplotlib) (24.1)\n",
      "Collecting pillow>=8 (from matplotlib)\n",
      "  Obtaining dependency information for pillow>=8 from https://files.pythonhosted.org/packages/23/9c/343827267eb28d41cd82b4180d33b10d868af9077abcec0af9793aa77d2d/pillow-10.4.0-cp39-cp39-macosx_11_0_arm64.whl.metadata\n",
      "  Downloading pillow-10.4.0-cp39-cp39-macosx_11_0_arm64.whl.metadata (9.2 kB)\n",
      "Collecting pyparsing>=2.3.1 (from matplotlib)\n",
      "  Obtaining dependency information for pyparsing>=2.3.1 from https://files.pythonhosted.org/packages/e5/0c/0e3c05b1c87bb6a1c76d281b0f35e78d2d80ac91b5f8f524cebf77f51049/pyparsing-3.1.4-py3-none-any.whl.metadata\n",
      "  Downloading pyparsing-3.1.4-py3-none-any.whl.metadata (5.1 kB)\n",
      "Requirement already satisfied: python-dateutil>=2.7 in ./.venv/lib/python3.9/site-packages (from matplotlib) (2.9.0.post0)\n",
      "Collecting importlib-resources>=3.2.0 (from matplotlib)\n",
      "  Obtaining dependency information for importlib-resources>=3.2.0 from https://files.pythonhosted.org/packages/db/2a/728c8ae66011600fac5731a7db030d23c42f1321fd9547654f0c3b2b32d7/importlib_resources-6.4.4-py3-none-any.whl.metadata\n",
      "  Downloading importlib_resources-6.4.4-py3-none-any.whl.metadata (4.0 kB)\n",
      "Requirement already satisfied: zipp>=3.1.0 in ./.venv/lib/python3.9/site-packages (from importlib-resources>=3.2.0->matplotlib) (3.20.1)\n",
      "Requirement already satisfied: six>=1.5 in ./.venv/lib/python3.9/site-packages (from python-dateutil>=2.7->matplotlib) (1.16.0)\n",
      "Downloading matplotlib-3.9.2-cp39-cp39-macosx_11_0_arm64.whl (7.8 MB)\n",
      "\u001b[2K   \u001b[90m━━━━━━━━━━━━━━━━━━━━━━━━━━━━━━━━━━━━━━━━\u001b[0m \u001b[32m7.8/7.8 MB\u001b[0m \u001b[31m2.5 MB/s\u001b[0m eta \u001b[36m0:00:00\u001b[0m00:01\u001b[0m00:01\u001b[0m\n",
      "\u001b[?25hDownloading contourpy-1.3.0-cp39-cp39-macosx_11_0_arm64.whl (249 kB)\n",
      "\u001b[2K   \u001b[90m━━━━━━━━━━━━━━━━━━━━━━━━━━━━━━━━━━━━━━━━\u001b[0m \u001b[32m249.3/249.3 kB\u001b[0m \u001b[31m1.7 MB/s\u001b[0m eta \u001b[36m0:00:00\u001b[0ma \u001b[36m0:00:01\u001b[0m\n",
      "\u001b[?25hDownloading cycler-0.12.1-py3-none-any.whl (8.3 kB)\n",
      "Downloading fonttools-4.53.1-cp39-cp39-macosx_11_0_arm64.whl (2.2 MB)\n",
      "\u001b[2K   \u001b[90m━━━━━━━━━━━━━━━━━━━━━━━━━━━━━━━━━━━━━━━━\u001b[0m \u001b[32m2.2/2.2 MB\u001b[0m \u001b[31m2.8 MB/s\u001b[0m eta \u001b[36m0:00:00\u001b[0m00:01\u001b[0m00:01\u001b[0m\n",
      "\u001b[?25hDownloading importlib_resources-6.4.4-py3-none-any.whl (35 kB)\n",
      "Downloading kiwisolver-1.4.7-cp39-cp39-macosx_11_0_arm64.whl (64 kB)\n",
      "\u001b[2K   \u001b[90m━━━━━━━━━━━━━━━━━━━━━━━━━━━━━━━━━━━━━━━━\u001b[0m \u001b[32m64.3/64.3 kB\u001b[0m \u001b[31m2.3 MB/s\u001b[0m eta \u001b[36m0:00:00\u001b[0m\n",
      "\u001b[?25hDownloading pillow-10.4.0-cp39-cp39-macosx_11_0_arm64.whl (3.4 MB)\n",
      "\u001b[2K   \u001b[90m━━━━━━━━━━━━━━━━━━━━━━━━━━━━━━━━━━━━━━━━\u001b[0m \u001b[32m3.4/3.4 MB\u001b[0m \u001b[31m2.8 MB/s\u001b[0m eta \u001b[36m0:00:00\u001b[0m00:01\u001b[0m00:01\u001b[0m\n",
      "\u001b[?25hDownloading pyparsing-3.1.4-py3-none-any.whl (104 kB)\n",
      "\u001b[2K   \u001b[90m━━━━━━━━━━━━━━━━━━━━━━━━━━━━━━━━━━━━━━━━\u001b[0m \u001b[32m104.1/104.1 kB\u001b[0m \u001b[31m2.3 MB/s\u001b[0m eta \u001b[36m0:00:00\u001b[0m00:01\u001b[0m\n",
      "\u001b[?25hInstalling collected packages: pyparsing, pillow, kiwisolver, importlib-resources, fonttools, cycler, contourpy, matplotlib\n",
      "Successfully installed contourpy-1.3.0 cycler-0.12.1 fonttools-4.53.1 importlib-resources-6.4.4 kiwisolver-1.4.7 matplotlib-3.9.2 pillow-10.4.0 pyparsing-3.1.4\n",
      "\n",
      "\u001b[1m[\u001b[0m\u001b[34;49mnotice\u001b[0m\u001b[1;39;49m]\u001b[0m\u001b[39;49m A new release of pip is available: \u001b[0m\u001b[31;49m23.2.1\u001b[0m\u001b[39;49m -> \u001b[0m\u001b[32;49m24.2\u001b[0m\n",
      "\u001b[1m[\u001b[0m\u001b[34;49mnotice\u001b[0m\u001b[1;39;49m]\u001b[0m\u001b[39;49m To update, run: \u001b[0m\u001b[32;49mpip install --upgrade pip\u001b[0m\n"
     ]
    }
   ],
   "source": [
    "!pip install numpy\n",
    "!pip install pandas\n",
    "!pip install matplotlib"
   ]
  },
  {
   "cell_type": "markdown",
   "id": "8f9e3347-09f3-4a6a-bdfa-2ea65569d352",
   "metadata": {},
   "source": [
    "Importar dependencia"
   ]
  },
  {
   "cell_type": "code",
   "execution_count": 165,
   "id": "db42ed85-b813-4b9c-9301-92671e499a7c",
   "metadata": {},
   "outputs": [],
   "source": [
    "import numpy as np\n",
    "import pandas as pd\n",
    "import matplotlib"
   ]
  },
  {
   "cell_type": "markdown",
   "id": "6125c9f7-1d64-43a3-a36b-0e9c4fae7efd",
   "metadata": {},
   "source": [
    ">> Numpy"
   ]
  },
  {
   "cell_type": "markdown",
   "id": "3f1ffbff-f399-450b-b757-200a7188cfa7",
   "metadata": {},
   "source": [
    "> Crear arrays"
   ]
  },
  {
   "cell_type": "code",
   "execution_count": 15,
   "id": "be7825bf-b012-4ed4-a764-8b5f61acfc1b",
   "metadata": {},
   "outputs": [],
   "source": [
    "a = np.array([1,2,3])\n",
    "b = np.array([(1,2,3), (4,5,6)], dtype = float)\n",
    "c = np.array([[(1,2,3), (4,5,6)], [(3,2,1), (4,5,6)]], dtype = float)"
   ]
  },
  {
   "cell_type": "markdown",
   "id": "7f16dd70-9f5d-4de2-9342-c5969441a285",
   "metadata": {},
   "source": [
    "placeholders"
   ]
  },
  {
   "cell_type": "code",
   "execution_count": 17,
   "id": "651c175a-364a-459a-b10e-bffbf7928f41",
   "metadata": {
    "scrolled": true
   },
   "outputs": [
    {
     "data": {
      "text/plain": [
       "array([[1.39069238e-309, 1.39069238e-309],\n",
       "       [1.39069238e-309, 1.39069238e-309],\n",
       "       [1.39069238e-309, 1.39069238e-309]])"
      ]
     },
     "execution_count": 17,
     "metadata": {},
     "output_type": "execute_result"
    }
   ],
   "source": [
    "np.zeros((3,4)) #array de ceros\n",
    "np.ones((2,3,4),dtype=np.int16) # array de unos\n",
    "d = np.arange(10,25,5) # array de elementos especiados igualmente (excalado)\n",
    "np.linspace(0,2,9) # '' '' '' '' (muestra)\n",
    "e = np.full((2,2),7) #array constante\n",
    "f = np.eye(2) #matriz 2x2 de identidad\n",
    "np.random.random((2,2)) #array con valores randoms\n",
    "np.empty((3,2)) #array vacio"
   ]
  },
  {
   "cell_type": "markdown",
   "id": "841af886-13e0-41a0-9158-273c7eb3bf47",
   "metadata": {},
   "source": [
    ">I/O"
   ]
  },
  {
   "cell_type": "markdown",
   "id": "61d0036d-a898-46a1-aa24-42e39b44aaed",
   "metadata": {},
   "source": [
    "Saving & loading on disk"
   ]
  },
  {
   "cell_type": "code",
   "execution_count": 20,
   "id": "0bf6d034-41e5-4633-9249-457a1268d0bd",
   "metadata": {},
   "outputs": [
    {
     "data": {
      "text/plain": [
       "array([1, 2, 3])"
      ]
     },
     "execution_count": 20,
     "metadata": {},
     "output_type": "execute_result"
    }
   ],
   "source": [
    "np.save('my_array', a)\n",
    "np.savez('my_array.npz', a, b)\n",
    "np.load('my_array.npy')"
   ]
  },
  {
   "cell_type": "markdown",
   "id": "764c1247-53f5-4579-a17e-6722ae07ef3f",
   "metadata": {},
   "source": [
    "Saving & loading text files"
   ]
  },
  {
   "cell_type": "code",
   "execution_count": 27,
   "id": "f4f0a20e-2788-464a-850f-879a42b0301e",
   "metadata": {},
   "outputs": [],
   "source": [
    "np.loadtxt(\"myfile.txt\")\n",
    "np.genfromtxt(\"my_file.csv\", delimiter= ',')\n",
    "np.savetxt( \"myarray.txt\", a, delimiter= ' ')"
   ]
  },
  {
   "cell_type": "markdown",
   "id": "13296b34-d1d2-4aaf-9823-732a3d10e2fd",
   "metadata": {},
   "source": [
    "> Pedir ayuda"
   ]
  },
  {
   "cell_type": "code",
   "execution_count": 28,
   "id": "10a94a7a-609d-42a9-a30d-a15dd2120d49",
   "metadata": {},
   "outputs": [
    {
     "name": "stdout",
     "output_type": "stream",
     "text": [
      "Data-type of the array's elements.\n",
      "\n",
      ".. warning::\n",
      "\n",
      "    Setting ``arr.dtype`` is discouraged and may be deprecated in the\n",
      "    future.  Setting will replace the ``dtype`` without modifying the\n",
      "    memory (see also `ndarray.view` and `ndarray.astype`).\n",
      "\n",
      "Parameters\n",
      "----------\n",
      "None\n",
      "\n",
      "Returns\n",
      "-------\n",
      "d : numpy dtype object\n",
      "\n",
      "See Also\n",
      "--------\n",
      "ndarray.astype : Cast the values contained in the array to a new data-type.\n",
      "ndarray.view : Create a view of the same data but a different data-type.\n",
      "numpy.dtype\n",
      "\n",
      "Examples\n",
      "--------\n",
      ">>> x\n",
      "array([[0, 1],\n",
      "       [2, 3]])\n",
      ">>> x.dtype\n",
      "dtype('int32')\n",
      ">>> type(x.dtype)\n",
      "<type 'numpy.dtype'>\n"
     ]
    }
   ],
   "source": [
    "np.info(np.ndarray.dtype)"
   ]
  },
  {
   "cell_type": "markdown",
   "id": "602bdab4-cb00-463c-b64e-4f7bcae121e4",
   "metadata": {},
   "source": [
    ">Inspeccionar array"
   ]
  },
  {
   "cell_type": "code",
   "execution_count": 29,
   "id": "2090183e-4ad5-460a-85b7-b3812b98692c",
   "metadata": {
    "scrolled": true
   },
   "outputs": [
    {
     "data": {
      "text/plain": [
       "array([[1, 2, 3],\n",
       "       [4, 5, 6]])"
      ]
     },
     "execution_count": 29,
     "metadata": {},
     "output_type": "execute_result"
    }
   ],
   "source": [
    "a.shape #dimensiones\n",
    "len(a) #lengitud\n",
    "b.ndim # numero de dimensiones\n",
    "e.size # numero de elementos del array\n",
    "b.dtype #tipo de dato del arraye\n",
    "b.dtype.name #nombre del typo de dato\n",
    "b.astype(int) # convertir el tipo de dato del array a otro"
   ]
  },
  {
   "cell_type": "markdown",
   "id": "6b5c6da8-85ef-4c2b-9928-5ca128feb2c3",
   "metadata": {},
   "source": [
    ">Tipo de datos"
   ]
  },
  {
   "cell_type": "code",
   "execution_count": 34,
   "id": "0ceb3713-d80b-4614-892e-3f12e606596a",
   "metadata": {},
   "outputs": [
    {
     "data": {
      "text/plain": [
       "numpy.str_"
      ]
     },
     "execution_count": 34,
     "metadata": {},
     "output_type": "execute_result"
    }
   ],
   "source": [
    "np.int64 # int de 64 bit\n",
    "np.float32 # float\n",
    "# np.complex # numeros complejos 128 floats - deprecado\n",
    "complex(1) #nuevo numero complejo\n",
    "np.complex128(1) #complejo de numpy\n",
    "np.bool # booleano\n",
    "# np.object # objeto - deprecado\n",
    "object\n",
    "# np.string_ #string de tamano definido - deprecado\n",
    "np.bytes_\n",
    "\n",
    "#np.unicode_ #unicode de tamano definido - deprecado\n",
    "np.str_"
   ]
  },
  {
   "cell_type": "markdown",
   "id": "9f62297a-2ef3-4197-91ba-ce031b31e35d",
   "metadata": {},
   "source": [
    ">Operaciones"
   ]
  },
  {
   "cell_type": "markdown",
   "id": "5527f5fd-7472-4dcb-b10b-5008a09b8838",
   "metadata": {},
   "source": [
    "Aritmetica"
   ]
  },
  {
   "cell_type": "code",
   "execution_count": 37,
   "id": "c80ba026-f267-4897-b219-b31c6cb10e6f",
   "metadata": {},
   "outputs": [
    {
     "data": {
      "text/plain": [
       "array([[7., 7.],\n",
       "       [7., 7.]])"
      ]
     },
     "execution_count": 37,
     "metadata": {},
     "output_type": "execute_result"
    }
   ],
   "source": [
    "g = a - b # resta\n",
    "np.subtract(a,b)\n",
    "b + a\n",
    "np.add(b,a)\n",
    "a / b\n",
    "np.divide(a,b)\n",
    "a * b\n",
    "np.multiply(a,b) #\n",
    "np.exp(b) # exponente\n",
    "np.sqrt(b) # square root\n",
    "np.sin(a)\n",
    "np.cos(b)\n",
    "np.log(a)\n",
    "e.dot(f) # producto punto"
   ]
  },
  {
   "cell_type": "markdown",
   "id": "3929fac7-5774-404c-959e-aa73b5d21030",
   "metadata": {},
   "source": [
    "Comparacion"
   ]
  },
  {
   "cell_type": "code",
   "execution_count": 38,
   "id": "82aeb066-2e18-4f9d-ba5e-9f65c8fc15cf",
   "metadata": {},
   "outputs": [
    {
     "data": {
      "text/plain": [
       "False"
      ]
     },
     "execution_count": 38,
     "metadata": {},
     "output_type": "execute_result"
    }
   ],
   "source": [
    "a == b\n",
    "a < 2\n",
    "np.array_equal(a,b)"
   ]
  },
  {
   "cell_type": "markdown",
   "id": "c85049fb-f10e-4df7-97b9-6c6bc06be60c",
   "metadata": {},
   "source": [
    "Funciones de agregacion"
   ]
  },
  {
   "cell_type": "code",
   "execution_count": 39,
   "id": "256052c4-b3ff-4d08-bad5-c478094b1815",
   "metadata": {},
   "outputs": [
    {
     "data": {
      "text/plain": [
       "np.float64(1.707825127659933)"
      ]
     },
     "execution_count": 39,
     "metadata": {},
     "output_type": "execute_result"
    }
   ],
   "source": [
    "a.sum() #suma de array\n",
    "a.min() # menor valor de array\n",
    "b.max(axis=0) # mayor valor de array en fila x\n",
    "b.cumsum(axis=1) # suma de los elementos en la fila xd\n",
    "a.mean() #mean\n",
    "np.median(b) #Mediana\n",
    "np.corrcoef(a) #coeficiente de correlacion\n",
    "np.std(b) #desviacion estandar"
   ]
  },
  {
   "cell_type": "markdown",
   "id": "3a3f3eb4-9923-425f-a704-028c9285378e",
   "metadata": {},
   "source": [
    ">Copiar arrays"
   ]
  },
  {
   "cell_type": "code",
   "execution_count": 41,
   "id": "70d76438-e527-4ec1-a7f8-60d8c986744a",
   "metadata": {},
   "outputs": [],
   "source": [
    "h = a.view() #crear view de un array con los mismos datos\n",
    "np.copy(a) #Crear copia del array\n",
    "h = a.copy() # Crear deep copy del array"
   ]
  },
  {
   "cell_type": "markdown",
   "id": "d3df896f-7153-4f30-a539-5bcc019c20c5",
   "metadata": {},
   "source": [
    ">Sorting Arrays"
   ]
  },
  {
   "cell_type": "code",
   "execution_count": 42,
   "id": "a3b989cb-16d6-4263-8c65-1782da29535b",
   "metadata": {},
   "outputs": [],
   "source": [
    "a.sort() # sort del array\n",
    "c.sort(axis=0) #ordena elementos de fila x"
   ]
  },
  {
   "cell_type": "markdown",
   "id": "209eea77-2a77-415c-ad43-42ae914ef5cf",
   "metadata": {},
   "source": [
    ">Subsets, partir e indexar"
   ]
  },
  {
   "cell_type": "code",
   "execution_count": 44,
   "id": "5eb34e99-c79b-45d6-ba28-046c1ec6b3f6",
   "metadata": {},
   "outputs": [
    {
     "data": {
      "text/plain": [
       "array([[4., 5., 6., 4.],\n",
       "       [1., 2., 3., 1.],\n",
       "       [4., 5., 6., 4.],\n",
       "       [1., 2., 3., 1.]])"
      ]
     },
     "execution_count": 44,
     "metadata": {},
     "output_type": "execute_result"
    }
   ],
   "source": [
    "a[2] #selecciona elemento en indice 2\n",
    "b[1,2] #seleciona elemento de row 1 columna 2\n",
    "\n",
    "#Slicing\n",
    "\n",
    "a[0:2] #selecionar elementos de 0 a 1\n",
    "b[0:2,1] #selecionar elementos en la fila 0 y 1 en columna 1\n",
    "b[:1] # Selecionar todos los elementos de la fila cero (lo mismo que b[0:1, :])\n",
    "c[1,...] # lo mismo que [1,:,:]\n",
    "a[ : : -1]\n",
    "\n",
    "#Indexacion de boleanos\n",
    "\n",
    "a[a<2] #selecciona elementos menores que 2\n",
    "\n",
    "#Indexacion Fancy\n",
    "b[[1,0,1,0],[0,1,2,0]] #selecion de elemenos en (1,0), lista de coordenadas separadas\n",
    "b[[1,0,1,0]][:,[0,1,2,0]] #seleccion de ciertas columnas de la matriz"
   ]
  },
  {
   "cell_type": "markdown",
   "id": "30b28366-6460-4899-8abc-ec3ecea947b1",
   "metadata": {},
   "source": [
    ">Manipulacion de arrays"
   ]
  },
  {
   "cell_type": "code",
   "execution_count": 46,
   "id": "1fe11fb7-d5c5-4afe-9532-fdad03e48f1c",
   "metadata": {},
   "outputs": [
    {
     "data": {
      "text/plain": [
       "[array([[[1., 2., 1.],\n",
       "         [4., 5., 6.]]]),\n",
       " array([[[3., 2., 3.],\n",
       "         [4., 5., 6.]]])]"
      ]
     },
     "execution_count": 46,
     "metadata": {},
     "output_type": "execute_result"
    }
   ],
   "source": [
    "#transponer array\n",
    "i = np.transpose(b) # permutar dimenciones del array\n",
    "i.T # permutar dimenciones del array\n",
    "\n",
    "#cambiar tamano del array\n",
    "b.ravel() #aplanar array\n",
    "g.reshape(3,-2) # Reformar pero no cambia los datos\n",
    "\n",
    "#anadir remover elementos\n",
    "h.resize((2,6)) #regresar nuevo array con tamano 2,6\n",
    "np.append(h,g) #append elementos\n",
    "np.insert(a,1,5) #insertar elementos en el array\n",
    "np.delete(a, [1]) #eliminar elemento del array\n",
    "\n",
    "#Combinar arrays\n",
    "np.concatenate((a,d),axis=0) #concatenar\n",
    "np.vstack((a,b)) #se apilan arrays verticalmente\n",
    "np.r_[e,f] # se apilan arrays verticalmente\n",
    "np.hstack((e,f))# Stack horizontal\n",
    "np.column_stack((a,d)) #Crear stack basado en column\n",
    "np.c_[a,d] #crear stack  basado en columnas\n",
    "\n",
    "#Separar arrays\n",
    "np.hsplit(a,3) #se para el array en el indice 3 (horizontal)\n",
    "\n",
    "np.vsplit(c,2) #separa el array en el indice 2 (vertical)"
   ]
  },
  {
   "cell_type": "markdown",
   "id": "4bff4477-2235-4855-82b4-58562f78a81a",
   "metadata": {},
   "source": [
    ">> Pandas"
   ]
  },
  {
   "cell_type": "markdown",
   "id": "bc05bfbe-7da8-4814-9c62-002f465c2e50",
   "metadata": {},
   "source": [
    "> Crear Dataframes"
   ]
  },
  {
   "cell_type": "code",
   "execution_count": 122,
   "id": "b772a9e3-5f9e-4e0c-a539-2b1fc352dc6b",
   "metadata": {},
   "outputs": [
    {
     "data": {
      "text/html": [
       "<div>\n",
       "<style scoped>\n",
       "    .dataframe tbody tr th:only-of-type {\n",
       "        vertical-align: middle;\n",
       "    }\n",
       "\n",
       "    .dataframe tbody tr th {\n",
       "        vertical-align: top;\n",
       "    }\n",
       "\n",
       "    .dataframe thead th {\n",
       "        text-align: right;\n",
       "    }\n",
       "</style>\n",
       "<table border=\"1\" class=\"dataframe\">\n",
       "  <thead>\n",
       "    <tr style=\"text-align: right;\">\n",
       "      <th></th>\n",
       "      <th>a</th>\n",
       "      <th>b</th>\n",
       "      <th>c</th>\n",
       "      <th>d</th>\n",
       "    </tr>\n",
       "  </thead>\n",
       "  <tbody>\n",
       "    <tr>\n",
       "      <th>1</th>\n",
       "      <td>4</td>\n",
       "      <td>7</td>\n",
       "      <td>10</td>\n",
       "      <td>qwe</td>\n",
       "    </tr>\n",
       "    <tr>\n",
       "      <th>2</th>\n",
       "      <td>5</td>\n",
       "      <td>8</td>\n",
       "      <td>11</td>\n",
       "      <td>zxc</td>\n",
       "    </tr>\n",
       "    <tr>\n",
       "      <th>3</th>\n",
       "      <td>6</td>\n",
       "      <td>9</td>\n",
       "      <td>12</td>\n",
       "      <td>abc</td>\n",
       "    </tr>\n",
       "  </tbody>\n",
       "</table>\n",
       "</div>"
      ],
      "text/plain": [
       "   a  b   c    d\n",
       "1  4  7  10  qwe\n",
       "2  5  8  11  zxc\n",
       "3  6  9  12  abc"
      ]
     },
     "execution_count": 122,
     "metadata": {},
     "output_type": "execute_result"
    }
   ],
   "source": [
    "df = pd.DataFrame(\n",
    "{\"a\" : [4, 5, 6],\n",
    "\"b\" : [7, 8, 9],\n",
    "\"c\" : [10, 11, 12],\n",
    "\"d\" : [\"qwe\",\"zxc\",\"abc\"]},\n",
    "index = [1, 2, 3]) #Especificar valores de cada columna\n",
    "\n",
    "df1 = pd.DataFrame(\n",
    "[[4, 7, 10],\n",
    "[5, 8, 11],\n",
    "[6, 9, 12]],\n",
    "index=[1, 2, 3],\n",
    "columns=['a', 'b', 'c']) #Especificar valores por row\n",
    "\n",
    "df2 = pd.DataFrame(\n",
    "{\"a\" : [4 ,5, 6],\n",
    "\"b\" : [7, 8, 9],\n",
    "\"c\" : [10, 11, 12]},\n",
    "index = pd.MultiIndex.from_tuples(\n",
    "[('d', 1), ('d', 2),\n",
    "('e', 2)], names=['n', 'v']))# crear data frame con multiples indeces\n",
    "\n",
    "df"
   ]
  },
  {
   "cell_type": "markdown",
   "id": "0a2fd0ab-aae8-4c1c-a2b8-ff5d79bdb57d",
   "metadata": {},
   "source": [
    ">Reshape Data"
   ]
  },
  {
   "cell_type": "code",
   "execution_count": 102,
   "id": "70bd8146-7921-4140-894d-4fe37b13cc1f",
   "metadata": {},
   "outputs": [
    {
     "data": {
      "text/html": [
       "<div>\n",
       "<style scoped>\n",
       "    .dataframe tbody tr th:only-of-type {\n",
       "        vertical-align: middle;\n",
       "    }\n",
       "\n",
       "    .dataframe tbody tr th {\n",
       "        vertical-align: top;\n",
       "    }\n",
       "\n",
       "    .dataframe thead th {\n",
       "        text-align: right;\n",
       "    }\n",
       "</style>\n",
       "<table border=\"1\" class=\"dataframe\">\n",
       "  <thead>\n",
       "    <tr style=\"text-align: right;\">\n",
       "      <th></th>\n",
       "      <th>a</th>\n",
       "      <th>b</th>\n",
       "      <th>c</th>\n",
       "      <th>a</th>\n",
       "      <th>b</th>\n",
       "      <th>c</th>\n",
       "    </tr>\n",
       "  </thead>\n",
       "  <tbody>\n",
       "    <tr>\n",
       "      <th>1</th>\n",
       "      <td>4.0</td>\n",
       "      <td>7.0</td>\n",
       "      <td>10.0</td>\n",
       "      <td>NaN</td>\n",
       "      <td>NaN</td>\n",
       "      <td>NaN</td>\n",
       "    </tr>\n",
       "    <tr>\n",
       "      <th>2</th>\n",
       "      <td>5.0</td>\n",
       "      <td>8.0</td>\n",
       "      <td>11.0</td>\n",
       "      <td>NaN</td>\n",
       "      <td>NaN</td>\n",
       "      <td>NaN</td>\n",
       "    </tr>\n",
       "    <tr>\n",
       "      <th>3</th>\n",
       "      <td>6.0</td>\n",
       "      <td>9.0</td>\n",
       "      <td>12.0</td>\n",
       "      <td>NaN</td>\n",
       "      <td>NaN</td>\n",
       "      <td>NaN</td>\n",
       "    </tr>\n",
       "    <tr>\n",
       "      <th>(d, 1)</th>\n",
       "      <td>NaN</td>\n",
       "      <td>NaN</td>\n",
       "      <td>NaN</td>\n",
       "      <td>4.0</td>\n",
       "      <td>7.0</td>\n",
       "      <td>10.0</td>\n",
       "    </tr>\n",
       "    <tr>\n",
       "      <th>(d, 2)</th>\n",
       "      <td>NaN</td>\n",
       "      <td>NaN</td>\n",
       "      <td>NaN</td>\n",
       "      <td>5.0</td>\n",
       "      <td>8.0</td>\n",
       "      <td>11.0</td>\n",
       "    </tr>\n",
       "    <tr>\n",
       "      <th>(e, 2)</th>\n",
       "      <td>NaN</td>\n",
       "      <td>NaN</td>\n",
       "      <td>NaN</td>\n",
       "      <td>6.0</td>\n",
       "      <td>9.0</td>\n",
       "      <td>12.0</td>\n",
       "    </tr>\n",
       "  </tbody>\n",
       "</table>\n",
       "</div>"
      ],
      "text/plain": [
       "          a    b     c    a    b     c\n",
       "1       4.0  7.0  10.0  NaN  NaN   NaN\n",
       "2       5.0  8.0  11.0  NaN  NaN   NaN\n",
       "3       6.0  9.0  12.0  NaN  NaN   NaN\n",
       "(d, 1)  NaN  NaN   NaN  4.0  7.0  10.0\n",
       "(d, 2)  NaN  NaN   NaN  5.0  8.0  11.0\n",
       "(e, 2)  NaN  NaN   NaN  6.0  9.0  12.0"
      ]
     },
     "execution_count": 102,
     "metadata": {},
     "output_type": "execute_result"
    }
   ],
   "source": [
    "pd.melt(df1)\n",
    "pd.concat([df1,df2])\n",
    "pd.pivot(columns='a',values='c', data=df1)\n",
    "pd.concat([df1,df2], axis=1)"
   ]
  },
  {
   "cell_type": "code",
   "execution_count": 123,
   "id": "0628f376-37d2-4ef3-a918-d080a6760ba0",
   "metadata": {},
   "outputs": [
    {
     "data": {
      "text/html": [
       "<div>\n",
       "<style scoped>\n",
       "    .dataframe tbody tr th:only-of-type {\n",
       "        vertical-align: middle;\n",
       "    }\n",
       "\n",
       "    .dataframe tbody tr th {\n",
       "        vertical-align: top;\n",
       "    }\n",
       "\n",
       "    .dataframe thead th {\n",
       "        text-align: right;\n",
       "    }\n",
       "</style>\n",
       "<table border=\"1\" class=\"dataframe\">\n",
       "  <thead>\n",
       "    <tr style=\"text-align: right;\">\n",
       "      <th></th>\n",
       "      <th>a</th>\n",
       "      <th>b</th>\n",
       "      <th>d</th>\n",
       "    </tr>\n",
       "  </thead>\n",
       "  <tbody>\n",
       "    <tr>\n",
       "      <th>1</th>\n",
       "      <td>4</td>\n",
       "      <td>7</td>\n",
       "      <td>qwe</td>\n",
       "    </tr>\n",
       "    <tr>\n",
       "      <th>2</th>\n",
       "      <td>5</td>\n",
       "      <td>8</td>\n",
       "      <td>zxc</td>\n",
       "    </tr>\n",
       "    <tr>\n",
       "      <th>3</th>\n",
       "      <td>6</td>\n",
       "      <td>9</td>\n",
       "      <td>abc</td>\n",
       "    </tr>\n",
       "  </tbody>\n",
       "</table>\n",
       "</div>"
      ],
      "text/plain": [
       "   a  b    d\n",
       "1  4  7  qwe\n",
       "2  5  8  zxc\n",
       "3  6  9  abc"
      ]
     },
     "execution_count": 123,
     "metadata": {},
     "output_type": "execute_result"
    }
   ],
   "source": [
    "df.sort_values('a')\n",
    "#Order rows by values of a column (low to high).\n",
    "df.sort_values('a', ascending=False)\n",
    "#Order rows by values of a column (high to low).\n",
    "df.rename(columns = {'b':'y'})\n",
    "#Rename the columns of a DataFrame\n",
    "df.sort_index()\n",
    "#Sort the index of a DataFrame\n",
    "df.reset_index()\n",
    "#Reset index of DataFrame to row numbers, moving index to columns.\n",
    "df.drop(columns=['c'])\n",
    "#Drop columns from DataFrame"
   ]
  },
  {
   "cell_type": "markdown",
   "id": "07a92330-e3c6-4141-b0d3-0be3b5f6a3da",
   "metadata": {},
   "source": [
    ">Observaciones del subset (filas)"
   ]
  },
  {
   "cell_type": "code",
   "execution_count": 124,
   "id": "ff25b688-4b0c-4594-8328-bada4a6b858f",
   "metadata": {},
   "outputs": [
    {
     "data": {
      "text/html": [
       "<div>\n",
       "<style scoped>\n",
       "    .dataframe tbody tr th:only-of-type {\n",
       "        vertical-align: middle;\n",
       "    }\n",
       "\n",
       "    .dataframe tbody tr th {\n",
       "        vertical-align: top;\n",
       "    }\n",
       "\n",
       "    .dataframe thead th {\n",
       "        text-align: right;\n",
       "    }\n",
       "</style>\n",
       "<table border=\"1\" class=\"dataframe\">\n",
       "  <thead>\n",
       "    <tr style=\"text-align: right;\">\n",
       "      <th></th>\n",
       "      <th>a</th>\n",
       "      <th>b</th>\n",
       "      <th>c</th>\n",
       "      <th>d</th>\n",
       "    </tr>\n",
       "  </thead>\n",
       "  <tbody>\n",
       "    <tr>\n",
       "      <th>2</th>\n",
       "      <td>5</td>\n",
       "      <td>8</td>\n",
       "      <td>11</td>\n",
       "      <td>zxc</td>\n",
       "    </tr>\n",
       "    <tr>\n",
       "      <th>3</th>\n",
       "      <td>6</td>\n",
       "      <td>9</td>\n",
       "      <td>12</td>\n",
       "      <td>abc</td>\n",
       "    </tr>\n",
       "  </tbody>\n",
       "</table>\n",
       "</div>"
      ],
      "text/plain": [
       "   a  b   c    d\n",
       "2  5  8  11  zxc\n",
       "3  6  9  12  abc"
      ]
     },
     "execution_count": 124,
     "metadata": {},
     "output_type": "execute_result"
    }
   ],
   "source": [
    "df[df.a > 7]\n",
    "#Extract rows that meet logical criteria.\n",
    "df.drop_duplicates()\n",
    "#Remove duplicate rows (only considers columns).\n",
    "df.sample(frac=0.5)\n",
    "#Randomly select fraction of rows.\n",
    "df.sample(n=2) #Randomly select n rows.\n",
    "df.nlargest(2, 'a')\n",
    "#Select and order top n entries.\n",
    "df.nsmallest(2, 'a')\n",
    "#Select and order bottom n entries.\n",
    "df.head(1)\n",
    "#Select first n rows.\n",
    "df.tail(2)\n",
    "#Select last n rows"
   ]
  },
  {
   "cell_type": "markdown",
   "id": "e6325629-bea5-41f5-a3cc-9ea575789158",
   "metadata": {},
   "source": [
    ">Variables de subset (columnas)"
   ]
  },
  {
   "cell_type": "code",
   "execution_count": 126,
   "id": "564c01f3-5701-4504-a3fe-7afd2d9987f1",
   "metadata": {},
   "outputs": [
    {
     "data": {
      "text/html": [
       "<div>\n",
       "<style scoped>\n",
       "    .dataframe tbody tr th:only-of-type {\n",
       "        vertical-align: middle;\n",
       "    }\n",
       "\n",
       "    .dataframe tbody tr th {\n",
       "        vertical-align: top;\n",
       "    }\n",
       "\n",
       "    .dataframe thead th {\n",
       "        text-align: right;\n",
       "    }\n",
       "</style>\n",
       "<table border=\"1\" class=\"dataframe\">\n",
       "  <thead>\n",
       "    <tr style=\"text-align: right;\">\n",
       "      <th></th>\n",
       "    </tr>\n",
       "  </thead>\n",
       "  <tbody>\n",
       "    <tr>\n",
       "      <th>1</th>\n",
       "    </tr>\n",
       "    <tr>\n",
       "      <th>2</th>\n",
       "    </tr>\n",
       "    <tr>\n",
       "      <th>3</th>\n",
       "    </tr>\n",
       "  </tbody>\n",
       "</table>\n",
       "</div>"
      ],
      "text/plain": [
       "Empty DataFrame\n",
       "Columns: []\n",
       "Index: [1, 2, 3]"
      ]
     },
     "execution_count": 126,
     "metadata": {},
     "output_type": "execute_result"
    }
   ],
   "source": [
    "df[['a', 'b', 'c']]\n",
    "#Select multiple columns with specific names.\n",
    "df['a'] \n",
    "df.a\n",
    "#Select single column with specific name.\n",
    "df.filter(regex='1')\n",
    "#Select columns whose name matches regular expression regex."
   ]
  },
  {
   "cell_type": "markdown",
   "id": "c142b4b4-ab8b-413f-be78-29acf3adfdd7",
   "metadata": {},
   "source": [
    ">Usando query"
   ]
  },
  {
   "cell_type": "code",
   "execution_count": 127,
   "id": "30e8a317-e7a1-4aea-be82-9cd9b934a8a0",
   "metadata": {},
   "outputs": [
    {
     "data": {
      "text/html": [
       "<div>\n",
       "<style scoped>\n",
       "    .dataframe tbody tr th:only-of-type {\n",
       "        vertical-align: middle;\n",
       "    }\n",
       "\n",
       "    .dataframe tbody tr th {\n",
       "        vertical-align: top;\n",
       "    }\n",
       "\n",
       "    .dataframe thead th {\n",
       "        text-align: right;\n",
       "    }\n",
       "</style>\n",
       "<table border=\"1\" class=\"dataframe\">\n",
       "  <thead>\n",
       "    <tr style=\"text-align: right;\">\n",
       "      <th></th>\n",
       "      <th>a</th>\n",
       "      <th>b</th>\n",
       "      <th>c</th>\n",
       "      <th>d</th>\n",
       "    </tr>\n",
       "  </thead>\n",
       "  <tbody>\n",
       "    <tr>\n",
       "      <th>2</th>\n",
       "      <td>5</td>\n",
       "      <td>8</td>\n",
       "      <td>11</td>\n",
       "      <td>zxc</td>\n",
       "    </tr>\n",
       "  </tbody>\n",
       "</table>\n",
       "</div>"
      ],
      "text/plain": [
       "   a  b   c    d\n",
       "2  5  8  11  zxc"
      ]
     },
     "execution_count": 127,
     "metadata": {},
     "output_type": "execute_result"
    }
   ],
   "source": [
    "df.query('a > 7')\n",
    "df.query('a > 7 and b < 8')\n",
    "df.query('d.str.startswith(\"z\")',engine=\"python\")"
   ]
  },
  {
   "cell_type": "markdown",
   "id": "ae53cd52-55b2-4c2f-a264-8f360a40eb84",
   "metadata": {},
   "source": [
    ">Subsets filas y columnas"
   ]
  },
  {
   "cell_type": "code",
   "execution_count": 128,
   "id": "0b7614ea-173b-48c2-b340-b6d591ccf1df",
   "metadata": {},
   "outputs": [
    {
     "data": {
      "text/plain": [
       "np.int64(6)"
      ]
     },
     "execution_count": 128,
     "metadata": {},
     "output_type": "execute_result"
    }
   ],
   "source": [
    "df.iloc[10:20]\n",
    "#Select rows 10-20.\n",
    "df.iloc[:, [1, 2]]\n",
    "#Select columns in positions 1, 2 and 5 (first column is 0).\n",
    "df.loc[:, 'x2':'x4']\n",
    "#Select all columns between x2 and x4 (inclusive).\n",
    "df.loc[df['a'] > 10, ['a', 'c']]\n",
    "#Select rows meeting logical condition, and only the specific columns .\n",
    "df.iat[1, 2] #Access single value by index\n",
    "df.at[3, 'a'] #Access single value by label"
   ]
  },
  {
   "cell_type": "markdown",
   "id": "8b333463-5a72-4e25-91fb-5d6cde43f416",
   "metadata": {},
   "source": [
    ">Encadenacion de metodos"
   ]
  },
  {
   "cell_type": "code",
   "execution_count": 129,
   "id": "2835d18e-6bd6-4079-911c-2ab7e126229b",
   "metadata": {},
   "outputs": [
    {
     "data": {
      "text/html": [
       "<div>\n",
       "<style scoped>\n",
       "    .dataframe tbody tr th:only-of-type {\n",
       "        vertical-align: middle;\n",
       "    }\n",
       "\n",
       "    .dataframe tbody tr th {\n",
       "        vertical-align: top;\n",
       "    }\n",
       "\n",
       "    .dataframe thead th {\n",
       "        text-align: right;\n",
       "    }\n",
       "</style>\n",
       "<table border=\"1\" class=\"dataframe\">\n",
       "  <thead>\n",
       "    <tr style=\"text-align: right;\">\n",
       "      <th></th>\n",
       "      <th>var</th>\n",
       "      <th>valor</th>\n",
       "    </tr>\n",
       "  </thead>\n",
       "  <tbody>\n",
       "    <tr>\n",
       "      <th>0</th>\n",
       "      <td>a</td>\n",
       "      <td>4</td>\n",
       "    </tr>\n",
       "    <tr>\n",
       "      <th>1</th>\n",
       "      <td>a</td>\n",
       "      <td>5</td>\n",
       "    </tr>\n",
       "    <tr>\n",
       "      <th>2</th>\n",
       "      <td>a</td>\n",
       "      <td>6</td>\n",
       "    </tr>\n",
       "    <tr>\n",
       "      <th>3</th>\n",
       "      <td>b</td>\n",
       "      <td>7</td>\n",
       "    </tr>\n",
       "    <tr>\n",
       "      <th>4</th>\n",
       "      <td>b</td>\n",
       "      <td>8</td>\n",
       "    </tr>\n",
       "    <tr>\n",
       "      <th>5</th>\n",
       "      <td>b</td>\n",
       "      <td>9</td>\n",
       "    </tr>\n",
       "    <tr>\n",
       "      <th>6</th>\n",
       "      <td>c</td>\n",
       "      <td>10</td>\n",
       "    </tr>\n",
       "    <tr>\n",
       "      <th>7</th>\n",
       "      <td>c</td>\n",
       "      <td>11</td>\n",
       "    </tr>\n",
       "    <tr>\n",
       "      <th>8</th>\n",
       "      <td>c</td>\n",
       "      <td>12</td>\n",
       "    </tr>\n",
       "  </tbody>\n",
       "</table>\n",
       "</div>"
      ],
      "text/plain": [
       "  var  valor\n",
       "0   a      4\n",
       "1   a      5\n",
       "2   a      6\n",
       "3   b      7\n",
       "4   b      8\n",
       "5   b      9\n",
       "6   c     10\n",
       "7   c     11\n",
       "8   c     12"
      ]
     },
     "execution_count": 129,
     "metadata": {},
     "output_type": "execute_result"
    }
   ],
   "source": [
    "(pd.melt(df1)\n",
    "      .rename(columns={\n",
    "          'variable':'var',\n",
    "          'value':'valor'})\n",
    "      .query('valor >= 3')\n",
    ")"
   ]
  },
  {
   "cell_type": "markdown",
   "id": "bd2bb703-c910-4872-a41e-4bee749b7b61",
   "metadata": {},
   "source": [
    ">resumir datos"
   ]
  },
  {
   "cell_type": "code",
   "execution_count": 131,
   "id": "ad36cadf-3c67-426b-9332-f4e4e22b599e",
   "metadata": {},
   "outputs": [
    {
     "data": {
      "text/html": [
       "<div>\n",
       "<style scoped>\n",
       "    .dataframe tbody tr th:only-of-type {\n",
       "        vertical-align: middle;\n",
       "    }\n",
       "\n",
       "    .dataframe tbody tr th {\n",
       "        vertical-align: top;\n",
       "    }\n",
       "\n",
       "    .dataframe thead th {\n",
       "        text-align: right;\n",
       "    }\n",
       "</style>\n",
       "<table border=\"1\" class=\"dataframe\">\n",
       "  <thead>\n",
       "    <tr style=\"text-align: right;\">\n",
       "      <th></th>\n",
       "      <th>a</th>\n",
       "      <th>b</th>\n",
       "      <th>c</th>\n",
       "    </tr>\n",
       "  </thead>\n",
       "  <tbody>\n",
       "    <tr>\n",
       "      <th>count</th>\n",
       "      <td>3.0</td>\n",
       "      <td>3.0</td>\n",
       "      <td>3.0</td>\n",
       "    </tr>\n",
       "    <tr>\n",
       "      <th>mean</th>\n",
       "      <td>5.0</td>\n",
       "      <td>8.0</td>\n",
       "      <td>11.0</td>\n",
       "    </tr>\n",
       "    <tr>\n",
       "      <th>std</th>\n",
       "      <td>1.0</td>\n",
       "      <td>1.0</td>\n",
       "      <td>1.0</td>\n",
       "    </tr>\n",
       "    <tr>\n",
       "      <th>min</th>\n",
       "      <td>4.0</td>\n",
       "      <td>7.0</td>\n",
       "      <td>10.0</td>\n",
       "    </tr>\n",
       "    <tr>\n",
       "      <th>25%</th>\n",
       "      <td>4.5</td>\n",
       "      <td>7.5</td>\n",
       "      <td>10.5</td>\n",
       "    </tr>\n",
       "    <tr>\n",
       "      <th>50%</th>\n",
       "      <td>5.0</td>\n",
       "      <td>8.0</td>\n",
       "      <td>11.0</td>\n",
       "    </tr>\n",
       "    <tr>\n",
       "      <th>75%</th>\n",
       "      <td>5.5</td>\n",
       "      <td>8.5</td>\n",
       "      <td>11.5</td>\n",
       "    </tr>\n",
       "    <tr>\n",
       "      <th>max</th>\n",
       "      <td>6.0</td>\n",
       "      <td>9.0</td>\n",
       "      <td>12.0</td>\n",
       "    </tr>\n",
       "  </tbody>\n",
       "</table>\n",
       "</div>"
      ],
      "text/plain": [
       "         a    b     c\n",
       "count  3.0  3.0   3.0\n",
       "mean   5.0  8.0  11.0\n",
       "std    1.0  1.0   1.0\n",
       "min    4.0  7.0  10.0\n",
       "25%    4.5  7.5  10.5\n",
       "50%    5.0  8.0  11.0\n",
       "75%    5.5  8.5  11.5\n",
       "max    6.0  9.0  12.0"
      ]
     },
     "execution_count": 131,
     "metadata": {},
     "output_type": "execute_result"
    }
   ],
   "source": [
    "df['b'].value_counts()\n",
    "#Count number of rows with each unique value of variable\n",
    "len(df)\n",
    "# of rows in DataFrame.\n",
    "df.shape\n",
    "#Tuple of # of rows, # of columns in DataFrame.\n",
    "df['b'].nunique()\n",
    "# of distinct values in a column.\n",
    "df.describe()\n",
    "#Basic descriptive and statistics for each column (or GroupBy)."
   ]
  },
  {
   "cell_type": "markdown",
   "id": "40636f6a-0b4f-472f-a0c6-e932bb0970df",
   "metadata": {},
   "source": [
    ">Agrupar datos"
   ]
  },
  {
   "cell_type": "code",
   "execution_count": 139,
   "id": "a369cb37-83d0-4fac-a61f-67a21c8e881c",
   "metadata": {},
   "outputs": [
    {
     "data": {
      "text/plain": [
       "<pandas.core.groupby.generic.DataFrameGroupBy object at 0x10ec73a60>"
      ]
     },
     "execution_count": 139,
     "metadata": {},
     "output_type": "execute_result"
    }
   ],
   "source": [
    "df.groupby(by=\"a\")\n",
    "#Return a GroupBy object, grouped by values in column named \"col\".\n",
    "df.groupby(level=0)\n",
    "#Return a GroupBy object, groupedby values in index level named \"ind\"."
   ]
  },
  {
   "cell_type": "markdown",
   "id": "afa93bed-2144-4be1-bba5-c90b3d436866",
   "metadata": {},
   "source": [
    ">Manejar data faltante"
   ]
  },
  {
   "cell_type": "code",
   "execution_count": 149,
   "id": "73dfc812-5e92-4982-8609-b5a8fab1bac2",
   "metadata": {},
   "outputs": [
    {
     "data": {
      "text/html": [
       "<div>\n",
       "<style scoped>\n",
       "    .dataframe tbody tr th:only-of-type {\n",
       "        vertical-align: middle;\n",
       "    }\n",
       "\n",
       "    .dataframe tbody tr th {\n",
       "        vertical-align: top;\n",
       "    }\n",
       "\n",
       "    .dataframe thead th {\n",
       "        text-align: right;\n",
       "    }\n",
       "</style>\n",
       "<table border=\"1\" class=\"dataframe\">\n",
       "  <thead>\n",
       "    <tr style=\"text-align: right;\">\n",
       "      <th></th>\n",
       "      <th>a</th>\n",
       "      <th>b</th>\n",
       "      <th>c</th>\n",
       "      <th>d</th>\n",
       "    </tr>\n",
       "  </thead>\n",
       "  <tbody>\n",
       "    <tr>\n",
       "      <th>1</th>\n",
       "      <td>4</td>\n",
       "      <td>7</td>\n",
       "      <td>10</td>\n",
       "      <td>qwe</td>\n",
       "    </tr>\n",
       "    <tr>\n",
       "      <th>2</th>\n",
       "      <td>5</td>\n",
       "      <td>8</td>\n",
       "      <td>11</td>\n",
       "      <td>zxc</td>\n",
       "    </tr>\n",
       "    <tr>\n",
       "      <th>3</th>\n",
       "      <td>6</td>\n",
       "      <td>9</td>\n",
       "      <td>12</td>\n",
       "      <td>abc</td>\n",
       "    </tr>\n",
       "  </tbody>\n",
       "</table>\n",
       "</div>"
      ],
      "text/plain": [
       "   a  b   c    d\n",
       "1  4  7  10  qwe\n",
       "2  5  8  11  zxc\n",
       "3  6  9  12  abc"
      ]
     },
     "execution_count": 149,
     "metadata": {},
     "output_type": "execute_result"
    }
   ],
   "source": [
    "df.dropna()\n",
    "#Drop rows with any column having NA/null data.\n",
    "df.fillna(1)\n",
    "#Replace all NA/null data with value."
   ]
  },
  {
   "cell_type": "markdown",
   "id": "be663ce4-7c25-48e3-94c4-1179af30ef67",
   "metadata": {},
   "source": [
    ">Crear nuevas columna"
   ]
  },
  {
   "cell_type": "code",
   "execution_count": 156,
   "id": "7370e13a-2720-4ffc-90b9-a8fee809aa6b",
   "metadata": {},
   "outputs": [
    {
     "data": {
      "text/plain": [
       "1    0\n",
       "2    1\n",
       "3    2\n",
       "Name: a, dtype: int64"
      ]
     },
     "execution_count": 156,
     "metadata": {},
     "output_type": "execute_result"
    }
   ],
   "source": [
    "df.assign(Area=lambda df: df.a*df.b)\n",
    "#Compute and append one or more new columns.\n",
    "df['Volume'] = df.a*df.b*df.c\n",
    "#Add single column.\n",
    "pd.qcut(df.a, 3, labels=False)\n",
    "#Bin column into n buckets"
   ]
  },
  {
   "cell_type": "markdown",
   "id": "9973ce5e-0a2e-4860-a482-c0dbd12e988a",
   "metadata": {},
   "source": [
    ">Combinar datasets"
   ]
  },
  {
   "cell_type": "code",
   "execution_count": 157,
   "id": "2701234c-d480-4aa7-b685-6c202a71f26f",
   "metadata": {},
   "outputs": [
    {
     "data": {
      "text/html": [
       "<div>\n",
       "<style scoped>\n",
       "    .dataframe tbody tr th:only-of-type {\n",
       "        vertical-align: middle;\n",
       "    }\n",
       "\n",
       "    .dataframe tbody tr th {\n",
       "        vertical-align: top;\n",
       "    }\n",
       "\n",
       "    .dataframe thead th {\n",
       "        text-align: right;\n",
       "    }\n",
       "</style>\n",
       "<table border=\"1\" class=\"dataframe\">\n",
       "  <thead>\n",
       "    <tr style=\"text-align: right;\">\n",
       "      <th></th>\n",
       "      <th>a</th>\n",
       "      <th>b_x</th>\n",
       "      <th>c_x</th>\n",
       "      <th>b_y</th>\n",
       "      <th>c_y</th>\n",
       "    </tr>\n",
       "  </thead>\n",
       "  <tbody>\n",
       "    <tr>\n",
       "      <th>0</th>\n",
       "      <td>4</td>\n",
       "      <td>7</td>\n",
       "      <td>10</td>\n",
       "      <td>7</td>\n",
       "      <td>10</td>\n",
       "    </tr>\n",
       "    <tr>\n",
       "      <th>1</th>\n",
       "      <td>5</td>\n",
       "      <td>8</td>\n",
       "      <td>11</td>\n",
       "      <td>8</td>\n",
       "      <td>11</td>\n",
       "    </tr>\n",
       "    <tr>\n",
       "      <th>2</th>\n",
       "      <td>6</td>\n",
       "      <td>9</td>\n",
       "      <td>12</td>\n",
       "      <td>9</td>\n",
       "      <td>12</td>\n",
       "    </tr>\n",
       "  </tbody>\n",
       "</table>\n",
       "</div>"
      ],
      "text/plain": [
       "   a  b_x  c_x  b_y  c_y\n",
       "0  4    7   10    7   10\n",
       "1  5    8   11    8   11\n",
       "2  6    9   12    9   12"
      ]
     },
     "execution_count": 157,
     "metadata": {},
     "output_type": "execute_result"
    }
   ],
   "source": [
    "pd.merge(df1, df2, how='left', on='a')\n",
    "#Join matching rows from bdf to adf.\n",
    "pd.merge(df1, df2, how='right', on='a')\n",
    "#Join matching rows from adf to bdf.\n",
    "pd.merge(df1, df2, how='inner', on='a')\n",
    "#Join data. Retain only rows in both sets.\n",
    "pd.merge(df1, df2, how='outer', on='a')\n",
    "#Join data. Retain all values, all rows."
   ]
  },
  {
   "cell_type": "code",
   "execution_count": 159,
   "id": "97b4f901-af58-41ef-ba66-59c6eb1fb904",
   "metadata": {},
   "outputs": [
    {
     "data": {
      "text/html": [
       "<div>\n",
       "<style scoped>\n",
       "    .dataframe tbody tr th:only-of-type {\n",
       "        vertical-align: middle;\n",
       "    }\n",
       "\n",
       "    .dataframe tbody tr th {\n",
       "        vertical-align: top;\n",
       "    }\n",
       "\n",
       "    .dataframe thead th {\n",
       "        text-align: right;\n",
       "    }\n",
       "</style>\n",
       "<table border=\"1\" class=\"dataframe\">\n",
       "  <thead>\n",
       "    <tr style=\"text-align: right;\">\n",
       "      <th></th>\n",
       "      <th>a</th>\n",
       "      <th>b</th>\n",
       "      <th>c</th>\n",
       "    </tr>\n",
       "  </thead>\n",
       "  <tbody>\n",
       "  </tbody>\n",
       "</table>\n",
       "</div>"
      ],
      "text/plain": [
       "Empty DataFrame\n",
       "Columns: [a, b, c]\n",
       "Index: []"
      ]
     },
     "execution_count": 159,
     "metadata": {},
     "output_type": "execute_result"
    }
   ],
   "source": [
    "pd.merge(df1, df2)\n",
    "#Rows that appear in both ydf and zdf (Intersection).\n",
    "pd.merge(df1, df2, how='outer')\n",
    "#Rows that appear in either or both ydf and zdf (Union).\n",
    "pd.merge(df1, df2, how='outer',\n",
    "indicator=True).query('_merge == \"left_only\"').drop(columns=['_merge'])\n",
    "#Rows that appear in ydf but not zdf (Setdiff)."
   ]
  },
  {
   "cell_type": "markdown",
   "id": "d9866a63-e179-4c02-b4aa-3489637804d4",
   "metadata": {},
   "source": [
    ">Windows"
   ]
  },
  {
   "cell_type": "code",
   "execution_count": 162,
   "id": "f83fb828-7f11-4aa0-9bce-21114edf7f9d",
   "metadata": {},
   "outputs": [
    {
     "data": {
      "text/plain": [
       "Rolling [window=2,center=False,axis=0,method=single]"
      ]
     },
     "execution_count": 162,
     "metadata": {},
     "output_type": "execute_result"
    }
   ],
   "source": [
    "df.expanding()\n",
    "#Return an Expanding object allowing summary functions to be applied cumulatively.\n",
    "df.rolling(2)\n",
    "#Return a Rolling object allowing summary functions to be applied to windows of length n."
   ]
  },
  {
   "cell_type": "code",
   "execution_count": 166,
   "id": "890d9e03-880d-4ff0-b140-e98894a2372a",
   "metadata": {},
   "outputs": [
    {
     "name": "stderr",
     "output_type": "stream",
     "text": [
      "Matplotlib is building the font cache; this may take a moment.\n"
     ]
    },
    {
     "data": {
      "text/plain": [
       "<Axes: xlabel='a', ylabel='b'>"
      ]
     },
     "execution_count": 166,
     "metadata": {},
     "output_type": "execute_result"
    },
    {
     "data": {
      "image/png": "[encoded data removed]",
      "text/plain": [
       "<Figure size 640x480 with 1 Axes>"
      ]
     },
     "metadata": {},
     "output_type": "display_data"
    },
    {
     "data": {
      "image/png": "[encoded data removed]",
      "text/plain": [
       "<Figure size 640x480 with 1 Axes>"
      ]
     },
     "metadata": {},
     "output_type": "display_data"
    }
   ],
   "source": [
    "df.plot.hist()\n",
    "#Histogram for each column\n",
    "df.plot.scatter(x='a',y='b')\n",
    "#Scatter chart using pairs of points"
   ]
  },
  {
   "cell_type": "code",
   "execution_count": null,
   "id": "9d14fe2a-63de-4c4a-872b-560004aa1a40",
   "metadata": {},
   "outputs": [],
   "source": []
  }
 ],
 "metadata": {
  "kernelspec": {
   "display_name": "Python 3 (ipykernel)",
   "language": "python",
   "name": "python3"
  },
  "language_info": {
   "codemirror_mode": {
    "name": "ipython",
    "version": 3
   },
   "file_extension": ".py",
   "mimetype": "text/x-python",
   "name": "python",
   "nbconvert_exporter": "python",
   "pygments_lexer": "ipython3",
   "version": "3.9.6"
  }
 },
 "nbformat": 4,
 "nbformat_minor": 5
}
