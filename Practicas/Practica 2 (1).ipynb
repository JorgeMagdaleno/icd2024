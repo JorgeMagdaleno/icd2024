{
 "cells": [
  {
   "cell_type": "markdown",
   "id": "cfd1d646-997a-4a0a-a70f-fa33d651c55a",
   "metadata": {},
   "source": [
    "# Practica 2: Procesamiento de datatasets"
   ]
  },
  {
   "cell_type": "code",
   "execution_count": 24,
   "id": "01b7a105-b0f3-48c1-9de6-a0464f8fc139",
   "metadata": {},
   "outputs": [],
   "source": [
    "%%capture\n",
    "!pip install spacy\n",
    "!pip install nltk\n",
    "!pip install scikit-learn\n",
    "!pip install numpy\n",
    "!pip install pandas\n",
    "!pip install matplotlib\n",
    "!pip install seaborn\n",
    "!pip install folium"
   ]
  },
  {
   "cell_type": "code",
   "execution_count": 2,
   "id": "52d484c7-cc71-4b36-a2d8-d5d008829945",
   "metadata": {},
   "outputs": [
    {
     "name": "stderr",
     "output_type": "stream",
     "text": [
      "/Users/jorgemagdaleno/PycharmProjects/pythonProject/.venv/lib/python3.9/site-packages/urllib3/__init__.py:35: NotOpenSSLWarning: urllib3 v2 only supports OpenSSL 1.1.1+, currently the 'ssl' module is compiled with 'LibreSSL 2.8.3'. See: https://github.com/urllib3/urllib3/issues/3020\n",
      "  warnings.warn(\n"
     ]
    }
   ],
   "source": [
    "import pandas as pd\n",
    "import numpy as np\n",
    "import matplotlib.pyplot as plt\n",
    "import seaborn as sns\n",
    "import folium\n",
    "from IPython.display import display, IFrame\n",
    "from sklearn.preprocessing import LabelEncoder\n",
    "from sklearn.decomposition import PCA\n",
    "from sklearn.preprocessing import StandardScaler"
   ]
  },
  {
   "cell_type": "markdown",
   "id": "d32d91eb-9bcd-4409-945d-867cdb1e6297",
   "metadata": {},
   "source": [
    "# Analisis exploratorio"
   ]
  },
  {
   "cell_type": "code",
   "execution_count": 3,
   "id": "65c7416c-9f76-4b2b-9700-b2f15c345307",
   "metadata": {},
   "outputs": [
    {
     "data": {
      "text/html": [
       "<div>\n",
       "<style scoped>\n",
       "    .dataframe tbody tr th:only-of-type {\n",
       "        vertical-align: middle;\n",
       "    }\n",
       "\n",
       "    .dataframe tbody tr th {\n",
       "        vertical-align: top;\n",
       "    }\n",
       "\n",
       "    .dataframe thead th {\n",
       "        text-align: right;\n",
       "    }\n",
       "</style>\n",
       "<table border=\"1\" class=\"dataframe\">\n",
       "  <thead>\n",
       "    <tr style=\"text-align: right;\">\n",
       "      <th></th>\n",
       "      <th>incident_id</th>\n",
       "      <th>date</th>\n",
       "      <th>state</th>\n",
       "      <th>city_or_county</th>\n",
       "      <th>address</th>\n",
       "      <th>n_killed</th>\n",
       "      <th>n_injured</th>\n",
       "      <th>incident_url</th>\n",
       "      <th>source_url</th>\n",
       "      <th>incident_url_fields_missing</th>\n",
       "      <th>...</th>\n",
       "      <th>participant_age</th>\n",
       "      <th>participant_age_group</th>\n",
       "      <th>participant_gender</th>\n",
       "      <th>participant_name</th>\n",
       "      <th>participant_relationship</th>\n",
       "      <th>participant_status</th>\n",
       "      <th>participant_type</th>\n",
       "      <th>sources</th>\n",
       "      <th>state_house_district</th>\n",
       "      <th>state_senate_district</th>\n",
       "    </tr>\n",
       "  </thead>\n",
       "  <tbody>\n",
       "    <tr>\n",
       "      <th>0</th>\n",
       "      <td>461105</td>\n",
       "      <td>2013-01-01</td>\n",
       "      <td>Pennsylvania</td>\n",
       "      <td>Mckeesport</td>\n",
       "      <td>1506 Versailles Avenue and Coursin Street</td>\n",
       "      <td>0</td>\n",
       "      <td>4</td>\n",
       "      <td>http://www.gunviolencearchive.org/incident/461105</td>\n",
       "      <td>http://www.post-gazette.com/local/south/2013/0...</td>\n",
       "      <td>False</td>\n",
       "      <td>...</td>\n",
       "      <td>0::20</td>\n",
       "      <td>0::Adult 18+||1::Adult 18+||2::Adult 18+||3::A...</td>\n",
       "      <td>0::Male||1::Male||3::Male||4::Female</td>\n",
       "      <td>0::Julian Sims</td>\n",
       "      <td>NaN</td>\n",
       "      <td>0::Arrested||1::Injured||2::Injured||3::Injure...</td>\n",
       "      <td>0::Victim||1::Victim||2::Victim||3::Victim||4:...</td>\n",
       "      <td>http://pittsburgh.cbslocal.com/2013/01/01/4-pe...</td>\n",
       "      <td>NaN</td>\n",
       "      <td>NaN</td>\n",
       "    </tr>\n",
       "    <tr>\n",
       "      <th>1</th>\n",
       "      <td>460726</td>\n",
       "      <td>2013-01-01</td>\n",
       "      <td>California</td>\n",
       "      <td>Hawthorne</td>\n",
       "      <td>13500 block of Cerise Avenue</td>\n",
       "      <td>1</td>\n",
       "      <td>3</td>\n",
       "      <td>http://www.gunviolencearchive.org/incident/460726</td>\n",
       "      <td>http://www.dailybulletin.com/article/zz/201301...</td>\n",
       "      <td>False</td>\n",
       "      <td>...</td>\n",
       "      <td>0::20</td>\n",
       "      <td>0::Adult 18+||1::Adult 18+||2::Adult 18+||3::A...</td>\n",
       "      <td>0::Male</td>\n",
       "      <td>0::Bernard Gillis</td>\n",
       "      <td>NaN</td>\n",
       "      <td>0::Killed||1::Injured||2::Injured||3::Injured</td>\n",
       "      <td>0::Victim||1::Victim||2::Victim||3::Victim||4:...</td>\n",
       "      <td>http://losangeles.cbslocal.com/2013/01/01/man-...</td>\n",
       "      <td>62.0</td>\n",
       "      <td>35.0</td>\n",
       "    </tr>\n",
       "    <tr>\n",
       "      <th>2</th>\n",
       "      <td>478855</td>\n",
       "      <td>2013-01-01</td>\n",
       "      <td>Ohio</td>\n",
       "      <td>Lorain</td>\n",
       "      <td>1776 East 28th Street</td>\n",
       "      <td>1</td>\n",
       "      <td>3</td>\n",
       "      <td>http://www.gunviolencearchive.org/incident/478855</td>\n",
       "      <td>http://chronicle.northcoastnow.com/2013/02/14/...</td>\n",
       "      <td>False</td>\n",
       "      <td>...</td>\n",
       "      <td>0::25||1::31||2::33||3::34||4::33</td>\n",
       "      <td>0::Adult 18+||1::Adult 18+||2::Adult 18+||3::A...</td>\n",
       "      <td>0::Male||1::Male||2::Male||3::Male||4::Male</td>\n",
       "      <td>0::Damien Bell||1::Desmen Noble||2::Herman Sea...</td>\n",
       "      <td>NaN</td>\n",
       "      <td>0::Injured, Unharmed, Arrested||1::Unharmed, A...</td>\n",
       "      <td>0::Subject-Suspect||1::Subject-Suspect||2::Vic...</td>\n",
       "      <td>http://www.morningjournal.com/general-news/201...</td>\n",
       "      <td>56.0</td>\n",
       "      <td>13.0</td>\n",
       "    </tr>\n",
       "    <tr>\n",
       "      <th>3</th>\n",
       "      <td>478925</td>\n",
       "      <td>2013-01-05</td>\n",
       "      <td>Colorado</td>\n",
       "      <td>Aurora</td>\n",
       "      <td>16000 block of East Ithaca Place</td>\n",
       "      <td>4</td>\n",
       "      <td>0</td>\n",
       "      <td>http://www.gunviolencearchive.org/incident/478925</td>\n",
       "      <td>http://www.dailydemocrat.com/20130106/aurora-s...</td>\n",
       "      <td>False</td>\n",
       "      <td>...</td>\n",
       "      <td>0::29||1::33||2::56||3::33</td>\n",
       "      <td>0::Adult 18+||1::Adult 18+||2::Adult 18+||3::A...</td>\n",
       "      <td>0::Female||1::Male||2::Male||3::Male</td>\n",
       "      <td>0::Stacie Philbrook||1::Christopher Ratliffe||...</td>\n",
       "      <td>NaN</td>\n",
       "      <td>0::Killed||1::Killed||2::Killed||3::Killed</td>\n",
       "      <td>0::Victim||1::Victim||2::Victim||3::Subject-Su...</td>\n",
       "      <td>http://denver.cbslocal.com/2013/01/06/officer-...</td>\n",
       "      <td>40.0</td>\n",
       "      <td>28.0</td>\n",
       "    </tr>\n",
       "    <tr>\n",
       "      <th>4</th>\n",
       "      <td>478959</td>\n",
       "      <td>2013-01-07</td>\n",
       "      <td>North Carolina</td>\n",
       "      <td>Greensboro</td>\n",
       "      <td>307 Mourning Dove Terrace</td>\n",
       "      <td>2</td>\n",
       "      <td>2</td>\n",
       "      <td>http://www.gunviolencearchive.org/incident/478959</td>\n",
       "      <td>http://www.journalnow.com/news/local/article_d...</td>\n",
       "      <td>False</td>\n",
       "      <td>...</td>\n",
       "      <td>0::18||1::46||2::14||3::47</td>\n",
       "      <td>0::Adult 18+||1::Adult 18+||2::Teen 12-17||3::...</td>\n",
       "      <td>0::Female||1::Male||2::Male||3::Female</td>\n",
       "      <td>0::Danielle Imani Jameison||1::Maurice Eugene ...</td>\n",
       "      <td>3::Family</td>\n",
       "      <td>0::Injured||1::Injured||2::Killed||3::Killed</td>\n",
       "      <td>0::Victim||1::Victim||2::Victim||3::Subject-Su...</td>\n",
       "      <td>http://myfox8.com/2013/01/08/update-mother-sho...</td>\n",
       "      <td>62.0</td>\n",
       "      <td>27.0</td>\n",
       "    </tr>\n",
       "  </tbody>\n",
       "</table>\n",
       "<p>5 rows × 29 columns</p>\n",
       "</div>"
      ],
      "text/plain": [
       "   incident_id        date           state city_or_county  \\\n",
       "0       461105  2013-01-01    Pennsylvania     Mckeesport   \n",
       "1       460726  2013-01-01      California      Hawthorne   \n",
       "2       478855  2013-01-01            Ohio         Lorain   \n",
       "3       478925  2013-01-05        Colorado         Aurora   \n",
       "4       478959  2013-01-07  North Carolina     Greensboro   \n",
       "\n",
       "                                     address  n_killed  n_injured  \\\n",
       "0  1506 Versailles Avenue and Coursin Street         0          4   \n",
       "1               13500 block of Cerise Avenue         1          3   \n",
       "2                      1776 East 28th Street         1          3   \n",
       "3           16000 block of East Ithaca Place         4          0   \n",
       "4                  307 Mourning Dove Terrace         2          2   \n",
       "\n",
       "                                        incident_url  \\\n",
       "0  http://www.gunviolencearchive.org/incident/461105   \n",
       "1  http://www.gunviolencearchive.org/incident/460726   \n",
       "2  http://www.gunviolencearchive.org/incident/478855   \n",
       "3  http://www.gunviolencearchive.org/incident/478925   \n",
       "4  http://www.gunviolencearchive.org/incident/478959   \n",
       "\n",
       "                                          source_url  \\\n",
       "0  http://www.post-gazette.com/local/south/2013/0...   \n",
       "1  http://www.dailybulletin.com/article/zz/201301...   \n",
       "2  http://chronicle.northcoastnow.com/2013/02/14/...   \n",
       "3  http://www.dailydemocrat.com/20130106/aurora-s...   \n",
       "4  http://www.journalnow.com/news/local/article_d...   \n",
       "\n",
       "   incident_url_fields_missing  ...                    participant_age  \\\n",
       "0                        False  ...                              0::20   \n",
       "1                        False  ...                              0::20   \n",
       "2                        False  ...  0::25||1::31||2::33||3::34||4::33   \n",
       "3                        False  ...         0::29||1::33||2::56||3::33   \n",
       "4                        False  ...         0::18||1::46||2::14||3::47   \n",
       "\n",
       "                               participant_age_group  \\\n",
       "0  0::Adult 18+||1::Adult 18+||2::Adult 18+||3::A...   \n",
       "1  0::Adult 18+||1::Adult 18+||2::Adult 18+||3::A...   \n",
       "2  0::Adult 18+||1::Adult 18+||2::Adult 18+||3::A...   \n",
       "3  0::Adult 18+||1::Adult 18+||2::Adult 18+||3::A...   \n",
       "4  0::Adult 18+||1::Adult 18+||2::Teen 12-17||3::...   \n",
       "\n",
       "                            participant_gender  \\\n",
       "0         0::Male||1::Male||3::Male||4::Female   \n",
       "1                                      0::Male   \n",
       "2  0::Male||1::Male||2::Male||3::Male||4::Male   \n",
       "3         0::Female||1::Male||2::Male||3::Male   \n",
       "4       0::Female||1::Male||2::Male||3::Female   \n",
       "\n",
       "                                    participant_name  \\\n",
       "0                                     0::Julian Sims   \n",
       "1                                  0::Bernard Gillis   \n",
       "2  0::Damien Bell||1::Desmen Noble||2::Herman Sea...   \n",
       "3  0::Stacie Philbrook||1::Christopher Ratliffe||...   \n",
       "4  0::Danielle Imani Jameison||1::Maurice Eugene ...   \n",
       "\n",
       "   participant_relationship  \\\n",
       "0                       NaN   \n",
       "1                       NaN   \n",
       "2                       NaN   \n",
       "3                       NaN   \n",
       "4                 3::Family   \n",
       "\n",
       "                                  participant_status  \\\n",
       "0  0::Arrested||1::Injured||2::Injured||3::Injure...   \n",
       "1      0::Killed||1::Injured||2::Injured||3::Injured   \n",
       "2  0::Injured, Unharmed, Arrested||1::Unharmed, A...   \n",
       "3         0::Killed||1::Killed||2::Killed||3::Killed   \n",
       "4       0::Injured||1::Injured||2::Killed||3::Killed   \n",
       "\n",
       "                                    participant_type  \\\n",
       "0  0::Victim||1::Victim||2::Victim||3::Victim||4:...   \n",
       "1  0::Victim||1::Victim||2::Victim||3::Victim||4:...   \n",
       "2  0::Subject-Suspect||1::Subject-Suspect||2::Vic...   \n",
       "3  0::Victim||1::Victim||2::Victim||3::Subject-Su...   \n",
       "4  0::Victim||1::Victim||2::Victim||3::Subject-Su...   \n",
       "\n",
       "                                             sources state_house_district  \\\n",
       "0  http://pittsburgh.cbslocal.com/2013/01/01/4-pe...                  NaN   \n",
       "1  http://losangeles.cbslocal.com/2013/01/01/man-...                 62.0   \n",
       "2  http://www.morningjournal.com/general-news/201...                 56.0   \n",
       "3  http://denver.cbslocal.com/2013/01/06/officer-...                 40.0   \n",
       "4  http://myfox8.com/2013/01/08/update-mother-sho...                 62.0   \n",
       "\n",
       "  state_senate_district  \n",
       "0                   NaN  \n",
       "1                  35.0  \n",
       "2                  13.0  \n",
       "3                  28.0  \n",
       "4                  27.0  \n",
       "\n",
       "[5 rows x 29 columns]"
      ]
     },
     "execution_count": 3,
     "metadata": {},
     "output_type": "execute_result"
    }
   ],
   "source": [
    "df = pd.read_csv('gun-violence-data_01-2013_03-2018.csv')\n",
    "df.head()"
   ]
  },
  {
   "cell_type": "markdown",
   "id": "31f7b995-d911-47eb-b974-e05a0f51a664",
   "metadata": {},
   "source": [
    "Columnas principales:\n",
    "\n",
    "- Identificación del incidente (incident_id).\n",
    "- Fecha (date).\n",
    "- Estado y ciudad (state, city_or_county).\n",
    "- Número de personas heridas y fallecidas (n_killed, n_injured).\n",
    "- Participantes (participant_age, participant_gender, etc.).\n",
    "- Fuentes del incidente (incident_url, source_url)."
   ]
  },
  {
   "cell_type": "code",
   "execution_count": 4,
   "id": "d2333bde-aa81-4b0b-8076-ae85eb9be09c",
   "metadata": {},
   "outputs": [
    {
     "name": "stdout",
     "output_type": "stream",
     "text": [
      "<class 'pandas.core.frame.DataFrame'>\n",
      "RangeIndex: 239677 entries, 0 to 239676\n",
      "Data columns (total 29 columns):\n",
      " #   Column                       Non-Null Count   Dtype  \n",
      "---  ------                       --------------   -----  \n",
      " 0   incident_id                  239677 non-null  int64  \n",
      " 1   date                         239677 non-null  object \n",
      " 2   state                        239677 non-null  object \n",
      " 3   city_or_county               239677 non-null  object \n",
      " 4   address                      223180 non-null  object \n",
      " 5   n_killed                     239677 non-null  int64  \n",
      " 6   n_injured                    239677 non-null  int64  \n",
      " 7   incident_url                 239677 non-null  object \n",
      " 8   source_url                   239209 non-null  object \n",
      " 9   incident_url_fields_missing  239677 non-null  bool   \n",
      " 10  congressional_district       227733 non-null  float64\n",
      " 11  gun_stolen                   140179 non-null  object \n",
      " 12  gun_type                     140226 non-null  object \n",
      " 13  incident_characteristics     239351 non-null  object \n",
      " 14  latitude                     231754 non-null  float64\n",
      " 15  location_description         42089 non-null   object \n",
      " 16  longitude                    231754 non-null  float64\n",
      " 17  n_guns_involved              140226 non-null  float64\n",
      " 18  notes                        158660 non-null  object \n",
      " 19  participant_age              147379 non-null  object \n",
      " 20  participant_age_group        197558 non-null  object \n",
      " 21  participant_gender           203315 non-null  object \n",
      " 22  participant_name             117424 non-null  object \n",
      " 23  participant_relationship     15774 non-null   object \n",
      " 24  participant_status           212051 non-null  object \n",
      " 25  participant_type             214814 non-null  object \n",
      " 26  sources                      239068 non-null  object \n",
      " 27  state_house_district         200905 non-null  float64\n",
      " 28  state_senate_district        207342 non-null  float64\n",
      "dtypes: bool(1), float64(6), int64(3), object(19)\n",
      "memory usage: 51.4+ MB\n"
     ]
    }
   ],
   "source": [
    "df.info()"
   ]
  },
  {
   "cell_type": "markdown",
   "id": "8d90ff9b-8969-4328-aae3-a94cc075fd34",
   "metadata": {},
   "source": [
    "Se detecto n_guns_involved es float, dado que uno esperaria que el valor fuera entero revisare porque es float.\n",
    "Analizo primero si hay cualquier numero no entero"
   ]
  },
  {
   "cell_type": "code",
   "execution_count": 5,
   "id": "c72b4c29-0b8f-4a4e-a422-1e69e1de3397",
   "metadata": {},
   "outputs": [
    {
     "name": "stdout",
     "output_type": "stream",
     "text": [
      "99451\n"
     ]
    }
   ],
   "source": [
    "float_values = df['n_guns_involved'] % 1 != 0\n",
    "float_sum =  float_values.sum()\n",
    "print(float_sum)"
   ]
  },
  {
   "cell_type": "markdown",
   "id": "08009652-0c08-48de-97bf-ee4dfb7b952b",
   "metadata": {},
   "source": [
    "Se encuentra que hay 99451 no enteros\n",
    "Revisare que estos no sean valores nulos"
   ]
  },
  {
   "cell_type": "code",
   "execution_count": 6,
   "id": "df155d7d-fe74-4cbe-b1b2-cbfaf04cf435",
   "metadata": {},
   "outputs": [
    {
     "data": {
      "text/html": [
       "<div>\n",
       "<style scoped>\n",
       "    .dataframe tbody tr th:only-of-type {\n",
       "        vertical-align: middle;\n",
       "    }\n",
       "\n",
       "    .dataframe tbody tr th {\n",
       "        vertical-align: top;\n",
       "    }\n",
       "\n",
       "    .dataframe thead th {\n",
       "        text-align: right;\n",
       "    }\n",
       "</style>\n",
       "<table border=\"1\" class=\"dataframe\">\n",
       "  <thead>\n",
       "    <tr style=\"text-align: right;\">\n",
       "      <th></th>\n",
       "      <th>incident_id</th>\n",
       "      <th>date</th>\n",
       "      <th>state</th>\n",
       "      <th>city_or_county</th>\n",
       "      <th>address</th>\n",
       "      <th>n_killed</th>\n",
       "      <th>n_injured</th>\n",
       "      <th>incident_url</th>\n",
       "      <th>source_url</th>\n",
       "      <th>incident_url_fields_missing</th>\n",
       "      <th>...</th>\n",
       "      <th>participant_age</th>\n",
       "      <th>participant_age_group</th>\n",
       "      <th>participant_gender</th>\n",
       "      <th>participant_name</th>\n",
       "      <th>participant_relationship</th>\n",
       "      <th>participant_status</th>\n",
       "      <th>participant_type</th>\n",
       "      <th>sources</th>\n",
       "      <th>state_house_district</th>\n",
       "      <th>state_senate_district</th>\n",
       "    </tr>\n",
       "  </thead>\n",
       "  <tbody>\n",
       "  </tbody>\n",
       "</table>\n",
       "<p>0 rows × 29 columns</p>\n",
       "</div>"
      ],
      "text/plain": [
       "Empty DataFrame\n",
       "Columns: [incident_id, date, state, city_or_county, address, n_killed, n_injured, incident_url, source_url, incident_url_fields_missing, congressional_district, gun_stolen, gun_type, incident_characteristics, latitude, location_description, longitude, n_guns_involved, notes, participant_age, participant_age_group, participant_gender, participant_name, participant_relationship, participant_status, participant_type, sources, state_house_district, state_senate_district]\n",
       "Index: []\n",
       "\n",
       "[0 rows x 29 columns]"
      ]
     },
     "execution_count": 6,
     "metadata": {},
     "output_type": "execute_result"
    }
   ],
   "source": [
    "float_rows = df[(df['n_guns_involved'] % 1 != 0) & (df['n_guns_involved'].notna())]\n",
    "float_rows[['n_guns_involved', 'n_killed', 'n_injured', 'state', 'city_or_county']].head()\n",
    "float_rows.head()"
   ]
  },
  {
   "cell_type": "markdown",
   "id": "bc2e5fe2-94c2-44d9-a783-fde9fb0d0b45",
   "metadata": {},
   "source": [
    "Se ve que todos eran nulos, para limpiar los cambiare a 1 dado que la mediana de esta variable es 1 como se vera mas adelante y convertire la columna a valor int"
   ]
  },
  {
   "cell_type": "code",
   "execution_count": 7,
   "id": "64b71a04-61f0-4f11-9f80-4e48a97dfad4",
   "metadata": {},
   "outputs": [
    {
     "name": "stdout",
     "output_type": "stream",
     "text": [
      "<class 'pandas.core.frame.DataFrame'>\n",
      "RangeIndex: 239677 entries, 0 to 239676\n",
      "Data columns (total 1 columns):\n",
      " #   Column           Non-Null Count   Dtype\n",
      "---  ------           --------------   -----\n",
      " 0   n_guns_involved  239677 non-null  int64\n",
      "dtypes: int64(1)\n",
      "memory usage: 1.8 MB\n"
     ]
    }
   ],
   "source": [
    "df['n_guns_involved'] = df['n_guns_involved'].fillna(1)\n",
    "df['n_guns_involved'] = df['n_guns_involved'].astype(int)\n",
    "\n",
    "df[['n_guns_involved']].info()"
   ]
  },
  {
   "cell_type": "markdown",
   "id": "16c582f0-1c9f-45ec-9a70-9891a13fa076",
   "metadata": {},
   "source": [
    "Revisamos la cantidad de nulos"
   ]
  },
  {
   "cell_type": "code",
   "execution_count": 8,
   "id": "51677a78-e53e-484f-8052-c181395383fa",
   "metadata": {},
   "outputs": [
    {
     "name": "stdout",
     "output_type": "stream",
     "text": [
      "incident_id                         0\n",
      "date                                0\n",
      "state                               0\n",
      "city_or_county                      0\n",
      "address                         16497\n",
      "n_killed                            0\n",
      "n_injured                           0\n",
      "incident_url                        0\n",
      "source_url                        468\n",
      "incident_url_fields_missing         0\n",
      "congressional_district          11944\n",
      "gun_stolen                      99498\n",
      "gun_type                        99451\n",
      "incident_characteristics          326\n",
      "latitude                         7923\n",
      "location_description           197588\n",
      "longitude                        7923\n",
      "n_guns_involved                     0\n",
      "notes                           81017\n",
      "participant_age                 92298\n",
      "participant_age_group           42119\n",
      "participant_gender              36362\n",
      "participant_name               122253\n",
      "participant_relationship       223903\n",
      "participant_status              27626\n",
      "participant_type                24863\n",
      "sources                           609\n",
      "state_house_district            38772\n",
      "state_senate_district           32335\n",
      "dtype: int64\n"
     ]
    }
   ],
   "source": [
    "missing_data = df.isnull().sum()\n",
    "print(missing_data)"
   ]
  },
  {
   "cell_type": "markdown",
   "id": "a8a0683e-58de-416f-9e72-8a9fb988e1e9",
   "metadata": {},
   "source": [
    "Revisamos las estadisticas de nuestras variables numericas"
   ]
  },
  {
   "cell_type": "code",
   "execution_count": 9,
   "id": "74d7414a-77a5-46b7-94c8-c57987cfd088",
   "metadata": {},
   "outputs": [
    {
     "name": "stdout",
     "output_type": "stream",
     "text": [
      "            n_killed      n_injured  n_guns_involved\n",
      "count  239677.000000  239677.000000    239677.000000\n",
      "mean        0.252290       0.494007         1.217902\n",
      "std         0.521779       0.729952         3.583024\n",
      "min         0.000000       0.000000         1.000000\n",
      "25%         0.000000       0.000000         1.000000\n",
      "50%         0.000000       0.000000         1.000000\n",
      "75%         0.000000       1.000000         1.000000\n",
      "max        50.000000      53.000000       400.000000\n"
     ]
    }
   ],
   "source": [
    "statistics = df[['n_killed', 'n_injured', 'n_guns_involved']].describe()\n",
    "print(statistics)"
   ]
  },
  {
   "cell_type": "markdown",
   "id": "35ebe06e-36c6-4128-aa49-1ed88edc3bbe",
   "metadata": {},
   "source": [
    "# Limpieza de datos\n",
    "\n",
    "Ya se inicio la limpieza de datos anterior mente cuando rellenamos los nulos de n_guns_involved, pero ahora nos desharemos de datos que no consideraremos para este analisis. En este analisis nos enfocaremos en la distribucion geografica e intensidad de gun violence en los estados unidos."
   ]
  },
  {
   "cell_type": "markdown",
   "id": "18dc2860-358f-4b5c-8f72-16750acdc36f",
   "metadata": {},
   "source": [
    "Solamente mantendre los datos mencionados puesto que son los mas relevantes\n",
    "\n",
    "- 'state'\n",
    "- 'city_or_county'\n",
    "- 'n_killed'\n",
    "- 'n_injured'\n",
    "- 'latitude'\n",
    "- 'longitude'\n",
    "\n",
    "Tambien eriminare cualquier registro que tenga nulo en estas variables, ignorando 'city_or_county' puesto que podria haber crimenes cometidos fuera de ciudades"
   ]
  },
  {
   "cell_type": "code",
   "execution_count": 10,
   "id": "58d37868-5154-4997-8e15-7cb2a793568f",
   "metadata": {},
   "outputs": [
    {
     "data": {
      "text/html": [
       "<div>\n",
       "<style scoped>\n",
       "    .dataframe tbody tr th:only-of-type {\n",
       "        vertical-align: middle;\n",
       "    }\n",
       "\n",
       "    .dataframe tbody tr th {\n",
       "        vertical-align: top;\n",
       "    }\n",
       "\n",
       "    .dataframe thead th {\n",
       "        text-align: right;\n",
       "    }\n",
       "</style>\n",
       "<table border=\"1\" class=\"dataframe\">\n",
       "  <thead>\n",
       "    <tr style=\"text-align: right;\">\n",
       "      <th></th>\n",
       "      <th>state</th>\n",
       "      <th>city_or_county</th>\n",
       "      <th>n_killed</th>\n",
       "      <th>n_injured</th>\n",
       "      <th>latitude</th>\n",
       "      <th>longitude</th>\n",
       "    </tr>\n",
       "  </thead>\n",
       "  <tbody>\n",
       "    <tr>\n",
       "      <th>0</th>\n",
       "      <td>Pennsylvania</td>\n",
       "      <td>Mckeesport</td>\n",
       "      <td>0</td>\n",
       "      <td>4</td>\n",
       "      <td>40.3467</td>\n",
       "      <td>-79.8559</td>\n",
       "    </tr>\n",
       "    <tr>\n",
       "      <th>1</th>\n",
       "      <td>California</td>\n",
       "      <td>Hawthorne</td>\n",
       "      <td>1</td>\n",
       "      <td>3</td>\n",
       "      <td>33.9090</td>\n",
       "      <td>-118.3330</td>\n",
       "    </tr>\n",
       "    <tr>\n",
       "      <th>2</th>\n",
       "      <td>Ohio</td>\n",
       "      <td>Lorain</td>\n",
       "      <td>1</td>\n",
       "      <td>3</td>\n",
       "      <td>41.4455</td>\n",
       "      <td>-82.1377</td>\n",
       "    </tr>\n",
       "    <tr>\n",
       "      <th>3</th>\n",
       "      <td>Colorado</td>\n",
       "      <td>Aurora</td>\n",
       "      <td>4</td>\n",
       "      <td>0</td>\n",
       "      <td>39.6518</td>\n",
       "      <td>-104.8020</td>\n",
       "    </tr>\n",
       "    <tr>\n",
       "      <th>4</th>\n",
       "      <td>North Carolina</td>\n",
       "      <td>Greensboro</td>\n",
       "      <td>2</td>\n",
       "      <td>2</td>\n",
       "      <td>36.1140</td>\n",
       "      <td>-79.9569</td>\n",
       "    </tr>\n",
       "  </tbody>\n",
       "</table>\n",
       "</div>"
      ],
      "text/plain": [
       "            state city_or_county  n_killed  n_injured  latitude  longitude\n",
       "0    Pennsylvania     Mckeesport         0          4   40.3467   -79.8559\n",
       "1      California      Hawthorne         1          3   33.9090  -118.3330\n",
       "2            Ohio         Lorain         1          3   41.4455   -82.1377\n",
       "3        Colorado         Aurora         4          0   39.6518  -104.8020\n",
       "4  North Carolina     Greensboro         2          2   36.1140   -79.9569"
      ]
     },
     "execution_count": 10,
     "metadata": {},
     "output_type": "execute_result"
    }
   ],
   "source": [
    "\n",
    "df_cleaned = df[['state', 'city_or_county', 'n_killed', 'n_injured', 'latitude', 'longitude']].copy()\n",
    "\n",
    "df_cleaned = df_cleaned.dropna(subset=['state', 'n_killed', 'n_injured', 'latitude', 'longitude'])\n",
    "\n",
    "df_cleaned.head()"
   ]
  },
  {
   "cell_type": "markdown",
   "id": "0cf9fa59-7769-4bc2-a52b-183fadba4cc5",
   "metadata": {},
   "source": [
    "# Analisis exploratorio (continuacion)"
   ]
  },
  {
   "cell_type": "markdown",
   "id": "7ace8186-adf7-41b5-bc1b-b6b687e6d7e2",
   "metadata": {},
   "source": [
    "Mapeamos los datos para ver la distribucion en un mapa"
   ]
  },
  {
   "cell_type": "code",
   "execution_count": 11,
   "id": "4c60d63a-5860-4e57-a35a-03e58115c218",
   "metadata": {},
   "outputs": [
    {
     "data": {
      "image/png": "[encoded data removed]",
      "text/plain": [
       "<Figure size 600x600 with 2 Axes>"
      ]
     },
     "metadata": {},
     "output_type": "display_data"
    }
   ],
   "source": [
    "data_geo = df_cleaned[['latitude', 'longitude', 'n_killed', 'n_injured']].dropna()\n",
    "data_geo = data_geo[data_geo['longitude'] <= 50]\n",
    "\n",
    "plt.figure(figsize=(6, 6))\n",
    "plt.scatter(data_geo['longitude'], data_geo['latitude'], alpha=0.5, c=data_geo['n_killed'], cmap='Reds', s=data_geo['n_injured']*10)\n",
    "\n",
    "plt.title('Mapa de incidentes de violencia armada: muertos y heridos')\n",
    "plt.xlabel('Longitud')\n",
    "plt.ylabel('Latitud')\n",
    "plt.colorbar(label='Número de muertos')\n",
    "plt.show()"
   ]
  },
  {
   "cell_type": "markdown",
   "id": "8a3ef5da-4a45-4f1c-a948-d58c05d4d87a",
   "metadata": {},
   "source": [
    "Utilizamos un mapa mas elaborado para una mejor visualizacion"
   ]
  },
  {
   "cell_type": "code",
   "execution_count": null,
   "id": "e7a38789-b57c-4062-8807-87cb4039e159",
   "metadata": {
    "scrolled": true
   },
   "outputs": [],
   "source": [
    "m = folium.Map(location=[37.0902, -95.7129], zoom_start=4)\n",
    "\n",
    "\n",
    "for idx, row in data_geo.iterrows():\n",
    "    folium.CircleMarker(\n",
    "        location=[row['latitude'], row['longitude']],\n",
    "        radius=row['n_injured'] * 2,\n",
    "        color='red' if row['n_killed'] > 0 else 'blue',\n",
    "        fill=True,\n",
    "        fill_opacity=0.7,\n",
    "        popup=f\"Killed: {row['n_killed']}, Injured: {row['n_injured']}\"\n",
    "    ).add_to(m)\n",
    "\n",
    "m"
   ]
  },
  {
   "cell_type": "markdown",
   "id": "40fff9c1-2d67-477f-8609-41f869c6e1af",
   "metadata": {},
   "source": [
    "Se puede observar una gran tendencia de crimenes armados en florida y en otros focos"
   ]
  },
  {
   "cell_type": "markdown",
   "id": "899568b7-44f3-4ce5-bcac-ac886b83f530",
   "metadata": {},
   "source": [
    "# Seleccion de caracteristicas"
   ]
  },
  {
   "cell_type": "markdown",
   "id": "7fc5b8a0-64c5-48d3-bf93-892a8875c2c6",
   "metadata": {},
   "source": [
    "Primero creare una matriz de correlacion para ver que caracteristicas que podriamos usar para la seleccion."
   ]
  },
  {
   "cell_type": "code",
   "execution_count": 13,
   "id": "eae85947-0bbd-42ce-82b1-b31542526601",
   "metadata": {},
   "outputs": [
    {
     "data": {
      "image/png": "[encoded data removed]",
      "text/plain": [
       "<Figure size 1000x800 with 2 Axes>"
      ]
     },
     "metadata": {},
     "output_type": "display_data"
    }
   ],
   "source": [
    "\n",
    "numeric_columns = df_cleaned.select_dtypes(include=[float, int])\n",
    "\n",
    "correlation_matrix = numeric_columns.corr()\n",
    "\n",
    "plt.figure(figsize=(10, 8))\n",
    "sns.heatmap(correlation_matrix, annot=True, cmap='coolwarm', linewidths=0.5)\n",
    "plt.title('Matriz de Correlación de Variables Numéricas')\n",
    "plt.show()"
   ]
  },
  {
   "cell_type": "markdown",
   "id": "f2026ff7-d578-4ac2-9b6e-16ca4decb1b7",
   "metadata": {},
   "source": [
    "De esto realmente no pude identificar que variable cambiar para poder realizar los siquientes pasos, creo que al limpiar variables deje muy pocas para poder aplicar esto"
   ]
  },
  {
   "cell_type": "markdown",
   "id": "50df202e-d51a-4c82-935e-9d81a9805249",
   "metadata": {},
   "source": [
    "# Extraccion de caracteristicas"
   ]
  },
  {
   "cell_type": "markdown",
   "id": "63bb1fdf-8383-4291-b948-d6fd23d54325",
   "metadata": {},
   "source": [
    "Mis variables de estados y de ciudad podemos representarlos como true or false, para que sean mas faciles de analizar para modelos despues."
   ]
  },
  {
   "cell_type": "code",
   "execution_count": 14,
   "id": "0230c1b4-7374-445e-8872-0db7395cbefc",
   "metadata": {},
   "outputs": [
    {
     "data": {
      "text/html": [
       "<div>\n",
       "<style scoped>\n",
       "    .dataframe tbody tr th:only-of-type {\n",
       "        vertical-align: middle;\n",
       "    }\n",
       "\n",
       "    .dataframe tbody tr th {\n",
       "        vertical-align: top;\n",
       "    }\n",
       "\n",
       "    .dataframe thead th {\n",
       "        text-align: right;\n",
       "    }\n",
       "</style>\n",
       "<table border=\"1\" class=\"dataframe\">\n",
       "  <thead>\n",
       "    <tr style=\"text-align: right;\">\n",
       "      <th></th>\n",
       "      <th>n_killed</th>\n",
       "      <th>n_injured</th>\n",
       "      <th>latitude</th>\n",
       "      <th>longitude</th>\n",
       "      <th>state_Alaska</th>\n",
       "      <th>state_Arizona</th>\n",
       "      <th>state_Arkansas</th>\n",
       "      <th>state_California</th>\n",
       "      <th>state_Colorado</th>\n",
       "      <th>state_Connecticut</th>\n",
       "      <th>...</th>\n",
       "      <th>city_or_county_Zion</th>\n",
       "      <th>city_or_county_Zion (Beach Park)</th>\n",
       "      <th>city_or_county_Zion Grove</th>\n",
       "      <th>city_or_county_Zionsville</th>\n",
       "      <th>city_or_county_Zionville</th>\n",
       "      <th>city_or_county_Zumbro Falls</th>\n",
       "      <th>city_or_county_Zumbrota</th>\n",
       "      <th>city_or_county_Zuni (Zuni Pueblo)</th>\n",
       "      <th>city_or_county_Zwolle</th>\n",
       "      <th>city_or_county_jefferson parish (county)</th>\n",
       "    </tr>\n",
       "  </thead>\n",
       "  <tbody>\n",
       "    <tr>\n",
       "      <th>0</th>\n",
       "      <td>0</td>\n",
       "      <td>4</td>\n",
       "      <td>40.3467</td>\n",
       "      <td>-79.8559</td>\n",
       "      <td>False</td>\n",
       "      <td>False</td>\n",
       "      <td>False</td>\n",
       "      <td>False</td>\n",
       "      <td>False</td>\n",
       "      <td>False</td>\n",
       "      <td>...</td>\n",
       "      <td>False</td>\n",
       "      <td>False</td>\n",
       "      <td>False</td>\n",
       "      <td>False</td>\n",
       "      <td>False</td>\n",
       "      <td>False</td>\n",
       "      <td>False</td>\n",
       "      <td>False</td>\n",
       "      <td>False</td>\n",
       "      <td>False</td>\n",
       "    </tr>\n",
       "    <tr>\n",
       "      <th>1</th>\n",
       "      <td>1</td>\n",
       "      <td>3</td>\n",
       "      <td>33.9090</td>\n",
       "      <td>-118.3330</td>\n",
       "      <td>False</td>\n",
       "      <td>False</td>\n",
       "      <td>False</td>\n",
       "      <td>True</td>\n",
       "      <td>False</td>\n",
       "      <td>False</td>\n",
       "      <td>...</td>\n",
       "      <td>False</td>\n",
       "      <td>False</td>\n",
       "      <td>False</td>\n",
       "      <td>False</td>\n",
       "      <td>False</td>\n",
       "      <td>False</td>\n",
       "      <td>False</td>\n",
       "      <td>False</td>\n",
       "      <td>False</td>\n",
       "      <td>False</td>\n",
       "    </tr>\n",
       "    <tr>\n",
       "      <th>2</th>\n",
       "      <td>1</td>\n",
       "      <td>3</td>\n",
       "      <td>41.4455</td>\n",
       "      <td>-82.1377</td>\n",
       "      <td>False</td>\n",
       "      <td>False</td>\n",
       "      <td>False</td>\n",
       "      <td>False</td>\n",
       "      <td>False</td>\n",
       "      <td>False</td>\n",
       "      <td>...</td>\n",
       "      <td>False</td>\n",
       "      <td>False</td>\n",
       "      <td>False</td>\n",
       "      <td>False</td>\n",
       "      <td>False</td>\n",
       "      <td>False</td>\n",
       "      <td>False</td>\n",
       "      <td>False</td>\n",
       "      <td>False</td>\n",
       "      <td>False</td>\n",
       "    </tr>\n",
       "    <tr>\n",
       "      <th>3</th>\n",
       "      <td>4</td>\n",
       "      <td>0</td>\n",
       "      <td>39.6518</td>\n",
       "      <td>-104.8020</td>\n",
       "      <td>False</td>\n",
       "      <td>False</td>\n",
       "      <td>False</td>\n",
       "      <td>False</td>\n",
       "      <td>True</td>\n",
       "      <td>False</td>\n",
       "      <td>...</td>\n",
       "      <td>False</td>\n",
       "      <td>False</td>\n",
       "      <td>False</td>\n",
       "      <td>False</td>\n",
       "      <td>False</td>\n",
       "      <td>False</td>\n",
       "      <td>False</td>\n",
       "      <td>False</td>\n",
       "      <td>False</td>\n",
       "      <td>False</td>\n",
       "    </tr>\n",
       "    <tr>\n",
       "      <th>4</th>\n",
       "      <td>2</td>\n",
       "      <td>2</td>\n",
       "      <td>36.1140</td>\n",
       "      <td>-79.9569</td>\n",
       "      <td>False</td>\n",
       "      <td>False</td>\n",
       "      <td>False</td>\n",
       "      <td>False</td>\n",
       "      <td>False</td>\n",
       "      <td>False</td>\n",
       "      <td>...</td>\n",
       "      <td>False</td>\n",
       "      <td>False</td>\n",
       "      <td>False</td>\n",
       "      <td>False</td>\n",
       "      <td>False</td>\n",
       "      <td>False</td>\n",
       "      <td>False</td>\n",
       "      <td>False</td>\n",
       "      <td>False</td>\n",
       "      <td>False</td>\n",
       "    </tr>\n",
       "  </tbody>\n",
       "</table>\n",
       "<p>5 rows × 12781 columns</p>\n",
       "</div>"
      ],
      "text/plain": [
       "   n_killed  n_injured  latitude  longitude  state_Alaska  state_Arizona  \\\n",
       "0         0          4   40.3467   -79.8559         False          False   \n",
       "1         1          3   33.9090  -118.3330         False          False   \n",
       "2         1          3   41.4455   -82.1377         False          False   \n",
       "3         4          0   39.6518  -104.8020         False          False   \n",
       "4         2          2   36.1140   -79.9569         False          False   \n",
       "\n",
       "   state_Arkansas  state_California  state_Colorado  state_Connecticut  ...  \\\n",
       "0           False             False           False              False  ...   \n",
       "1           False              True           False              False  ...   \n",
       "2           False             False           False              False  ...   \n",
       "3           False             False            True              False  ...   \n",
       "4           False             False           False              False  ...   \n",
       "\n",
       "   city_or_county_Zion  city_or_county_Zion (Beach Park)  \\\n",
       "0                False                             False   \n",
       "1                False                             False   \n",
       "2                False                             False   \n",
       "3                False                             False   \n",
       "4                False                             False   \n",
       "\n",
       "   city_or_county_Zion Grove  city_or_county_Zionsville  \\\n",
       "0                      False                      False   \n",
       "1                      False                      False   \n",
       "2                      False                      False   \n",
       "3                      False                      False   \n",
       "4                      False                      False   \n",
       "\n",
       "   city_or_county_Zionville  city_or_county_Zumbro Falls  \\\n",
       "0                     False                        False   \n",
       "1                     False                        False   \n",
       "2                     False                        False   \n",
       "3                     False                        False   \n",
       "4                     False                        False   \n",
       "\n",
       "   city_or_county_Zumbrota  city_or_county_Zuni (Zuni Pueblo)  \\\n",
       "0                    False                              False   \n",
       "1                    False                              False   \n",
       "2                    False                              False   \n",
       "3                    False                              False   \n",
       "4                    False                              False   \n",
       "\n",
       "   city_or_county_Zwolle  city_or_county_jefferson parish (county)  \n",
       "0                  False                                     False  \n",
       "1                  False                                     False  \n",
       "2                  False                                     False  \n",
       "3                  False                                     False  \n",
       "4                  False                                     False  \n",
       "\n",
       "[5 rows x 12781 columns]"
      ]
     },
     "execution_count": 14,
     "metadata": {},
     "output_type": "execute_result"
    }
   ],
   "source": [
    "df_encoded = pd.get_dummies(df_cleaned, columns=['state', 'city_or_county'], drop_first=True)\n",
    "\n",
    "df_encoded.head()"
   ]
  },
  {
   "cell_type": "markdown",
   "id": "cf12ebe1-a67f-4037-91e0-6f68f6915666",
   "metadata": {},
   "source": [
    "Otra opcion es usar label encoder, aqui le asignamos un valor numerico a cada caracteristica en vez de manejarlo como trues o falsos"
   ]
  },
  {
   "cell_type": "code",
   "execution_count": 15,
   "id": "4a4e62c4-6a26-4dc6-a4e3-c76283178f96",
   "metadata": {},
   "outputs": [
    {
     "data": {
      "text/html": [
       "<div>\n",
       "<style scoped>\n",
       "    .dataframe tbody tr th:only-of-type {\n",
       "        vertical-align: middle;\n",
       "    }\n",
       "\n",
       "    .dataframe tbody tr th {\n",
       "        vertical-align: top;\n",
       "    }\n",
       "\n",
       "    .dataframe thead th {\n",
       "        text-align: right;\n",
       "    }\n",
       "</style>\n",
       "<table border=\"1\" class=\"dataframe\">\n",
       "  <thead>\n",
       "    <tr style=\"text-align: right;\">\n",
       "      <th></th>\n",
       "      <th>state</th>\n",
       "      <th>state_encoded</th>\n",
       "    </tr>\n",
       "  </thead>\n",
       "  <tbody>\n",
       "    <tr>\n",
       "      <th>0</th>\n",
       "      <td>Pennsylvania</td>\n",
       "      <td>38</td>\n",
       "    </tr>\n",
       "    <tr>\n",
       "      <th>1</th>\n",
       "      <td>California</td>\n",
       "      <td>4</td>\n",
       "    </tr>\n",
       "    <tr>\n",
       "      <th>2</th>\n",
       "      <td>Ohio</td>\n",
       "      <td>35</td>\n",
       "    </tr>\n",
       "    <tr>\n",
       "      <th>3</th>\n",
       "      <td>Colorado</td>\n",
       "      <td>5</td>\n",
       "    </tr>\n",
       "    <tr>\n",
       "      <th>4</th>\n",
       "      <td>North Carolina</td>\n",
       "      <td>33</td>\n",
       "    </tr>\n",
       "  </tbody>\n",
       "</table>\n",
       "</div>"
      ],
      "text/plain": [
       "            state  state_encoded\n",
       "0    Pennsylvania             38\n",
       "1      California              4\n",
       "2            Ohio             35\n",
       "3        Colorado              5\n",
       "4  North Carolina             33"
      ]
     },
     "execution_count": 15,
     "metadata": {},
     "output_type": "execute_result"
    }
   ],
   "source": [
    "label_encoder = LabelEncoder()\n",
    "\n",
    "df_cleaned['state_encoded'] = label_encoder.fit_transform(df_cleaned['state'])\n",
    "\n",
    "df_cleaned[['state', 'state_encoded']].head()"
   ]
  },
  {
   "cell_type": "markdown",
   "id": "12b9725d-2c58-491f-b511-9ebd8fca0b9a",
   "metadata": {},
   "source": [
    "Otra cosa que se puede realizar es obtener valores derivados por ejemplo los siguientes:"
   ]
  },
  {
   "cell_type": "markdown",
   "id": "512f158d-ed92-4e37-8862-bb513d8ce874",
   "metadata": {},
   "source": [
    "Ratios"
   ]
  },
  {
   "cell_type": "code",
   "execution_count": 16,
   "id": "145e56ca-1343-4b86-85b6-4c7acae318c2",
   "metadata": {},
   "outputs": [
    {
     "data": {
      "text/html": [
       "<div>\n",
       "<style scoped>\n",
       "    .dataframe tbody tr th:only-of-type {\n",
       "        vertical-align: middle;\n",
       "    }\n",
       "\n",
       "    .dataframe tbody tr th {\n",
       "        vertical-align: top;\n",
       "    }\n",
       "\n",
       "    .dataframe thead th {\n",
       "        text-align: right;\n",
       "    }\n",
       "</style>\n",
       "<table border=\"1\" class=\"dataframe\">\n",
       "  <thead>\n",
       "    <tr style=\"text-align: right;\">\n",
       "      <th></th>\n",
       "      <th>n_injured</th>\n",
       "      <th>n_killed</th>\n",
       "      <th>injured_to_killed_ratio</th>\n",
       "    </tr>\n",
       "  </thead>\n",
       "  <tbody>\n",
       "    <tr>\n",
       "      <th>0</th>\n",
       "      <td>4</td>\n",
       "      <td>0</td>\n",
       "      <td>4.000000e+06</td>\n",
       "    </tr>\n",
       "    <tr>\n",
       "      <th>1</th>\n",
       "      <td>3</td>\n",
       "      <td>1</td>\n",
       "      <td>2.999997e+00</td>\n",
       "    </tr>\n",
       "    <tr>\n",
       "      <th>2</th>\n",
       "      <td>3</td>\n",
       "      <td>1</td>\n",
       "      <td>2.999997e+00</td>\n",
       "    </tr>\n",
       "    <tr>\n",
       "      <th>3</th>\n",
       "      <td>0</td>\n",
       "      <td>4</td>\n",
       "      <td>0.000000e+00</td>\n",
       "    </tr>\n",
       "    <tr>\n",
       "      <th>4</th>\n",
       "      <td>2</td>\n",
       "      <td>2</td>\n",
       "      <td>9.999995e-01</td>\n",
       "    </tr>\n",
       "  </tbody>\n",
       "</table>\n",
       "</div>"
      ],
      "text/plain": [
       "   n_injured  n_killed  injured_to_killed_ratio\n",
       "0          4         0             4.000000e+06\n",
       "1          3         1             2.999997e+00\n",
       "2          3         1             2.999997e+00\n",
       "3          0         4             0.000000e+00\n",
       "4          2         2             9.999995e-01"
      ]
     },
     "execution_count": 16,
     "metadata": {},
     "output_type": "execute_result"
    }
   ],
   "source": [
    "epsilon = 1e-6\n",
    "df_cleaned['injured_to_killed_ratio'] = df_cleaned['n_injured'] / (df_cleaned['n_killed'] + epsilon)\n",
    "\n",
    "df_cleaned[['n_injured', 'n_killed', 'injured_to_killed_ratio']].head()"
   ]
  },
  {
   "cell_type": "markdown",
   "id": "12e05238-660d-4f73-bc62-64922ba4e87d",
   "metadata": {},
   "source": [
    "Numero total de victimas"
   ]
  },
  {
   "cell_type": "code",
   "execution_count": 17,
   "id": "044b2523-dbe7-479a-bde9-af10a277133f",
   "metadata": {},
   "outputs": [
    {
     "data": {
      "text/html": [
       "<div>\n",
       "<style scoped>\n",
       "    .dataframe tbody tr th:only-of-type {\n",
       "        vertical-align: middle;\n",
       "    }\n",
       "\n",
       "    .dataframe tbody tr th {\n",
       "        vertical-align: top;\n",
       "    }\n",
       "\n",
       "    .dataframe thead th {\n",
       "        text-align: right;\n",
       "    }\n",
       "</style>\n",
       "<table border=\"1\" class=\"dataframe\">\n",
       "  <thead>\n",
       "    <tr style=\"text-align: right;\">\n",
       "      <th></th>\n",
       "      <th>n_killed</th>\n",
       "      <th>n_injured</th>\n",
       "      <th>total_victims</th>\n",
       "    </tr>\n",
       "  </thead>\n",
       "  <tbody>\n",
       "    <tr>\n",
       "      <th>0</th>\n",
       "      <td>0</td>\n",
       "      <td>4</td>\n",
       "      <td>4</td>\n",
       "    </tr>\n",
       "    <tr>\n",
       "      <th>1</th>\n",
       "      <td>1</td>\n",
       "      <td>3</td>\n",
       "      <td>4</td>\n",
       "    </tr>\n",
       "    <tr>\n",
       "      <th>2</th>\n",
       "      <td>1</td>\n",
       "      <td>3</td>\n",
       "      <td>4</td>\n",
       "    </tr>\n",
       "    <tr>\n",
       "      <th>3</th>\n",
       "      <td>4</td>\n",
       "      <td>0</td>\n",
       "      <td>4</td>\n",
       "    </tr>\n",
       "    <tr>\n",
       "      <th>4</th>\n",
       "      <td>2</td>\n",
       "      <td>2</td>\n",
       "      <td>4</td>\n",
       "    </tr>\n",
       "  </tbody>\n",
       "</table>\n",
       "</div>"
      ],
      "text/plain": [
       "   n_killed  n_injured  total_victims\n",
       "0         0          4              4\n",
       "1         1          3              4\n",
       "2         1          3              4\n",
       "3         4          0              4\n",
       "4         2          2              4"
      ]
     },
     "execution_count": 17,
     "metadata": {},
     "output_type": "execute_result"
    }
   ],
   "source": [
    "df_cleaned['total_victims'] = df_cleaned['n_killed'] + df_cleaned['n_injured']\n",
    "\n",
    "df_cleaned[['n_killed', 'n_injured', 'total_victims']].head()"
   ]
  },
  {
   "cell_type": "markdown",
   "id": "f2263e02-4aa5-491b-ba97-a13db7f35be7",
   "metadata": {},
   "source": [
    "Tambien es posible aplicar PCA sobre los datos numericos"
   ]
  },
  {
   "cell_type": "code",
   "execution_count": 18,
   "id": "35e82f19-a2e9-4135-9f8c-ae5efd8105ad",
   "metadata": {},
   "outputs": [
    {
     "data": {
      "text/html": [
       "<div>\n",
       "<style scoped>\n",
       "    .dataframe tbody tr th:only-of-type {\n",
       "        vertical-align: middle;\n",
       "    }\n",
       "\n",
       "    .dataframe tbody tr th {\n",
       "        vertical-align: top;\n",
       "    }\n",
       "\n",
       "    .dataframe thead th {\n",
       "        text-align: right;\n",
       "    }\n",
       "</style>\n",
       "<table border=\"1\" class=\"dataframe\">\n",
       "  <thead>\n",
       "    <tr style=\"text-align: right;\">\n",
       "      <th></th>\n",
       "      <th>PC1</th>\n",
       "      <th>PC2</th>\n",
       "    </tr>\n",
       "  </thead>\n",
       "  <tbody>\n",
       "    <tr>\n",
       "      <th>0</th>\n",
       "      <td>8.011433</td>\n",
       "      <td>-1.409780</td>\n",
       "    </tr>\n",
       "    <tr>\n",
       "      <th>1</th>\n",
       "      <td>3.855129</td>\n",
       "      <td>3.365546</td>\n",
       "    </tr>\n",
       "    <tr>\n",
       "      <th>2</th>\n",
       "      <td>3.863832</td>\n",
       "      <td>1.962479</td>\n",
       "    </tr>\n",
       "    <tr>\n",
       "      <th>3</th>\n",
       "      <td>1.436327</td>\n",
       "      <td>7.774390</td>\n",
       "    </tr>\n",
       "    <tr>\n",
       "      <th>4</th>\n",
       "      <td>3.094890</td>\n",
       "      <td>3.841065</td>\n",
       "    </tr>\n",
       "  </tbody>\n",
       "</table>\n",
       "</div>"
      ],
      "text/plain": [
       "        PC1       PC2\n",
       "0  8.011433 -1.409780\n",
       "1  3.855129  3.365546\n",
       "2  3.863832  1.962479\n",
       "3  1.436327  7.774390\n",
       "4  3.094890  3.841065"
      ]
     },
     "execution_count": 18,
     "metadata": {},
     "output_type": "execute_result"
    }
   ],
   "source": [
    "scaler = StandardScaler()\n",
    "scaled_data = scaler.fit_transform(df_cleaned.select_dtypes(include=[float, int]))\n",
    "\n",
    "pca = PCA(n_components=2)\n",
    "pca_features = pca.fit_transform(scaled_data)\n",
    "\n",
    "df_pca = pd.DataFrame(pca_features, columns=['PC1', 'PC2'])\n",
    "\n",
    "df_pca.head()"
   ]
  },
  {
   "cell_type": "code",
   "execution_count": 19,
   "id": "fd6eb7aa-23a6-4f45-9cc3-853b653886da",
   "metadata": {},
   "outputs": [
    {
     "data": {
      "image/png": "[encoded data removed]",
      "text/plain": [
       "<Figure size 640x480 with 1 Axes>"
      ]
     },
     "metadata": {},
     "output_type": "display_data"
    }
   ],
   "source": [
    "plt.scatter(df_pca['PC1'], df_pca['PC2'])\n",
    "plt.title('Visualización del PCA')\n",
    "plt.xlabel('PC1')\n",
    "plt.ylabel('PC2')\n",
    "plt.show()"
   ]
  },
  {
   "cell_type": "code",
   "execution_count": 20,
   "id": "622dd6b5-55a3-4431-a39a-f12881963652",
   "metadata": {},
   "outputs": [
    {
     "data": {
      "image/png": "[encoded data removed]",
      "text/plain": [
       "<Figure size 800x500 with 1 Axes>"
      ]
     },
     "metadata": {},
     "output_type": "display_data"
    }
   ],
   "source": [
    "explained_variance = pca.explained_variance_ratio_\n",
    "\n",
    "plt.figure(figsize=(8, 5))\n",
    "plt.bar(range(len(explained_variance)), explained_variance, alpha=0.5, align='center')\n",
    "plt.title('Varianza Explicada por Cada Componente Principal')\n",
    "plt.xlabel('Componentes Principales')\n",
    "plt.ylabel('Varianza Explicada')\n",
    "plt.show()"
   ]
  },
  {
   "cell_type": "code",
   "execution_count": 21,
   "id": "dad9c46e-e5c9-47bc-9e88-ee64b4b18d3b",
   "metadata": {},
   "outputs": [
    {
     "data": {
      "image/png": "[encoded data removed]",
      "text/plain": [
       "<Figure size 800x500 with 1 Axes>"
      ]
     },
     "metadata": {},
     "output_type": "display_data"
    }
   ],
   "source": [
    "cumulative_variance = np.cumsum(explained_variance)\n",
    "\n",
    "plt.figure(figsize=(8, 5))\n",
    "plt.plot(range(len(cumulative_variance)), cumulative_variance, marker='o')\n",
    "plt.title('Varianza Explicada Acumulada')\n",
    "plt.xlabel('Componentes Principales')\n",
    "plt.ylabel('Varianza Explicada Acumulada')\n",
    "plt.grid(True)\n",
    "plt.show()"
   ]
  },
  {
   "cell_type": "code",
   "execution_count": 22,
   "id": "c705b5bf-ff8a-4633-b478-9bede28e87a6",
   "metadata": {},
   "outputs": [
    {
     "name": "stdout",
     "output_type": "stream",
     "text": [
      "Varianza explicada acumulada con los primeros 2 componentes: 56.28%\n"
     ]
    }
   ],
   "source": [
    "print(f\"Varianza explicada acumulada con los primeros 2 componentes: {cumulative_variance[1]*100:.2f}%\")"
   ]
  },
  {
   "cell_type": "markdown",
   "id": "197fc1c1-b2ad-4c5d-b6d6-790777d8f76d",
   "metadata": {},
   "source": [
    "Estos valores deacuerdo a investigacion de internet deberia esperarse alrededor de un 90% y si no se encuentran talvez las columnas seleccionadas no sean muy relacionadas entre si o hagan falta mas datos"
   ]
  },
  {
   "cell_type": "markdown",
   "id": "7567751a-a852-489c-a04b-3ce80530521e",
   "metadata": {},
   "source": [
    "# Conclusión\n",
    "Estas técnicas me ayudaron a transformar un dataset que era inicialmente complicado en uno más limpio y fácil de manejar. Las visualizaciones y el análisis de correlaciones me dieron una buena comprensión de los datos, mientras que la limpieza y transformación de características aseguraron que el dataset fuera útil para análisis más avanzados. Además, la aplicación de PCA permitió identificar patrones importantes, logrando cumplir con los objetivos planteados en la práctica."
   ]
  }
 ],
 "metadata": {
  "kernelspec": {
   "display_name": "Python 3 (ipykernel)",
   "language": "python",
   "name": "python3"
  },
  "language_info": {
   "codemirror_mode": {
    "name": "ipython",
    "version": 3
   },
   "file_extension": ".py",
   "mimetype": "text/x-python",
   "name": "python",
   "nbconvert_exporter": "python",
   "pygments_lexer": "ipython3",
   "version": "3.9.6"
  }
 },
 "nbformat": 4,
 "nbformat_minor": 5
}
