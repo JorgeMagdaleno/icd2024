{
 "cells": [
  {
   "cell_type": "code",
   "execution_count": 1,
   "id": "df9b49af-faa9-4b92-a95b-ee7301c93aa4",
   "metadata": {},
   "outputs": [
    {
     "name": "stdout",
     "output_type": "stream",
     "text": [
      "/Users/jorgemagdaleno\n"
     ]
    },
    {
     "name": "stderr",
     "output_type": "stream",
     "text": [
      "/Users/jorgemagdaleno/PycharmProjects/pythonProject/.venv/lib/python3.9/site-packages/IPython/core/magics/osm.py:393: UserWarning: using bookmarks requires you to install the `pickleshare` library.\n",
      "  bkms = self.shell.db.get('bookmarks', {})\n",
      "/Users/jorgemagdaleno/PycharmProjects/pythonProject/.venv/lib/python3.9/site-packages/IPython/core/magics/osm.py:428: UserWarning: using dhist requires you to install the `pickleshare` library.\n",
      "  self.shell.db['dhist'] = compress_dhist(dhist)[-100:]\n"
     ]
    }
   ],
   "source": [
    "%cd"
   ]
  },
  {
   "cell_type": "code",
   "execution_count": 2,
   "id": "aca85f72-af19-4525-bafe-f486dac82057",
   "metadata": {},
   "outputs": [
    {
     "name": "stdout",
     "output_type": "stream",
     "text": [
      "/Users/jorgemagdaleno/Downloads\n"
     ]
    },
    {
     "name": "stderr",
     "output_type": "stream",
     "text": [
      "/Users/jorgemagdaleno/PycharmProjects/pythonProject/.venv/lib/python3.9/site-packages/IPython/core/magics/osm.py:417: UserWarning: using dhist requires you to install the `pickleshare` library.\n",
      "  self.shell.db['dhist'] = compress_dhist(dhist)[-100:]\n"
     ]
    }
   ],
   "source": [
    "cd Downloads"
   ]
  },
  {
   "cell_type": "code",
   "execution_count": 3,
   "id": "b27cc740-b15d-4249-9ee3-a05da92374fb",
   "metadata": {},
   "outputs": [],
   "source": [
    "mkdir tmp"
   ]
  },
  {
   "cell_type": "code",
   "execution_count": 4,
   "id": "173e2b74-e590-4808-8e88-037cd2aebfc1",
   "metadata": {},
   "outputs": [
    {
     "name": "stdout",
     "output_type": "stream",
     "text": [
      "1-s2.0-S0950705122004737-main.pdf\n",
      "1396156441.avif\n",
      "14437049-uhd_2560_1440_60fps.mp4\n",
      "1512.06747.pdf\n",
      "16605636-uhd_3840_2160_60fps.mp4\n",
      "16726088-uhd_2160_3840_60fps.mp4\n",
      "17324151-hd_1080_1920_30fps.mp4\n",
      "2011_Book_ProofsAndFundamentals-24.pdf\n",
      "4568812-hd_1920_1080_30fps.mp4\n",
      "5767769-hd_1920_1080_25fps.mp4\n",
      "\u001b[34m5E-CHARACTERSHEETS\u001b[m\u001b[m/\n",
      "5E-CHARACTERSHEETS.zip\n",
      "5e_charactersheet_fillable.pdf\n",
      "Algoritmos_04_2024.pdf\n",
      "Análisis_de_AlgoritmosTarea_11_Fecha_de_entrega__5_de_Noviembre_de_2024 (1).pdf\n",
      "Análisis_de_AlgoritmosTarea_11_Fecha_de_entrega__5_de_Noviembre_de_2024 (2).pdf\n",
      "Análisis_de_AlgoritmosTarea_11_Fecha_de_entrega__5_de_Noviembre_de_2024 (3).pdf\n",
      "Análisis_de_AlgoritmosTarea_11_Fecha_de_entrega__5_de_Noviembre_de_2024.pdf\n",
      "\u001b[34mAzure Data Studio.app\u001b[m\u001b[m/\n",
      "Brave-Browser.dmg\n",
      "C.S.F JORGE MAGDALENO.pdf\n",
      "Discord.dmg\n",
      "EpicInstaller-14.2.1.dmg\n",
      "F1 2023 _ This Is No Ordinary Sport - FORMULA 1 (1080p, h264, youtube).mp4\n",
      "F1_DataScience_Prediccion (1).pptx\n",
      "F1_DataScience_Prediccion.pptx\n",
      "Form Fillable Spell Sheet - More Spells.pdf\n",
      "GoogleService-Info.plist\n",
      "\u001b[34mInstall League of Legends la1.app\u001b[m\u001b[m/\n",
      "Install League of Legends la1.zip\n",
      "Lectura 4 (1).pdf\n",
      "Lectura 4 Jorge Antonio Magdaleno Rodriguez.pdf\n",
      "Lectura 4.pdf\n",
      "MPMB's Character Record Sheet (v13.1.4+221130) [Printer Friendly - Redesign].pdf\n",
      "MPMBs_Character_Record_Sheet_v13.1.4221130_Printer_Friendly_-_Redesign.pdf\n",
      "Notebook BoW.ipynb\n",
      "Notebook Proyecto Final.ipynb\n",
      "\u001b[34mOpera Installer.app\u001b[m\u001b[m/\n",
      "OperaSetup.zip\n",
      "Orange3-3.37.0-Python3.11.8-arm64.dmg\n",
      "Practica 1.ipynb\n",
      "Practica 2 (1).ipynb\n",
      "Practica 2-Copy1.ipynb\n",
      "Practica 2.ipynb\n",
      "Practica 3.ipynb\n",
      "Practica 4 (1).ipynb\n",
      "Practica 4.ipynb\n",
      "Predicción de Ganadores en Fórmula 1.mp3\n",
      "Reporte Proyecto Final.pdf\n",
      "RimSort-Alpha-v1.0.6.2-hf_Darwin_arm.zip\n",
      "RimSort-v1.0.11-edge7+507a6d4-Darwin_arm.zip\n",
      "SQL2022-SSEI-Dev.exe\n",
      "Slack-4.39.95-macOS.dmg\n",
      "\u001b[34mSourceGit\u001b[m\u001b[m/\n",
      "Tunnelblick_4.0.1_build_5971.dmg\n",
      "VSCode-darwin-universal.zip\n",
      "\u001b[34mVisual Studio Code.app\u001b[m\u001b[m/\n",
      "Warp.dmg\n",
      "WineBottlerCombo_4.0.1.1.dmg\n",
      "X_and_y_pred.csv\n",
      "android-studio-2021.3.1.17-mac_arm.dmg\n",
      "ann200fw01-config.zip\n",
      "\u001b[34mann200fw01-udp-1194\u001b[m\u001b[m/\n",
      "\u001b[34mann200fw01-udp-1194 2\u001b[m\u001b[m/\n",
      "anydesk.dmg\n",
      "\u001b[34marchive (1)\u001b[m\u001b[m/\n",
      "\u001b[34marchive (1) 2\u001b[m\u001b[m/\n",
      "archive (1).zip\n",
      "archive (3).zip\n",
      "archive.zip\n",
      "asdasdasdasd.xml\n",
      "azuredatastudio-macos-universal-1.49.1.zip\n",
      "chart.png\n",
      "curseforge-latest.dmg\n",
      "data_for_lr.csv\n",
      "dbf1.png\n",
      "df_mini_HS.csv\n",
      "\u001b[34mdocumentos cicese\u001b[m\u001b[m/\n",
      "ezop0xnhbxh51.webp\n",
      "f1-champ-eda-classification-100-accuracy (1).ipynb\n",
      "f1-champ-eda-classification-100-accuracy (2).ipynb\n",
      "f1-champ-eda-classification-100-accuracy-updated.ipynb\n",
      "f1-champ-eda-classification-100-accuracy.ipynb\n",
      "f1-champ-eda-classification-paper.tex\n",
      "f1-champ-leaderboard-prediction.ipynb\n",
      "f1_championship_analysis.tex\n",
      "googlechrome.dmg\n",
      "gun-violence-data_01-2013_03-2018.csv\n",
      "high_diamond_ranked_10min.csv\n",
      "icd10.ipynb\n",
      "icd11.ipynb\n",
      "\u001b[34minscripcion cicese\u001b[m\u001b[m/\n",
      "logit_test.csv\n",
      "logit_train.csv\n",
      "mac_modlist.xml\n",
      "modlisr.xml\n",
      "mongodb-compass-1.40.4-darwin-arm64.dmg\n",
      "mongodb-macos-x86_64-5.0.23.tgz\n",
      "ndp46-targetingpack-kb3045566.exe\n",
      "pexels-alban-villain-667766304-17809274.jpg\n",
      "pexels-jonathanborba-29382702.jpg\n",
      "pexels-jonathanborba-29382706.jpg\n",
      "pycharm-professional-2024.2.0.1-aarch64.dmg\n",
      "sourcegit_8.25.osx-arm64.zip\n",
      "sourcegit_8.25.win-arm64.zip\n",
      "sourcegit_8.26.osx-arm64.zip\n",
      "steam.dmg\n",
      "test_airlines_delay_challenge.csv\n",
      "test_housing_data_italy.csv\n",
      "\u001b[34mtmp\u001b[m\u001b[m/\n",
      "train.csv\n",
      "train_airlines_delay_challenge.csv\n",
      "train_housing_data_italy.csv\n",
      "\u001b[34mweka-3-8-6\u001b[m\u001b[m/\n",
      "weka-3-8-6.zip\n",
      "¿Sabías que podemos predecir las posiciones finales de una carrera de Fórmula 1 utilizando ciencia de datos Este proyecto combina la emoción del automovilismo con el poder de la analítica para ant.mp4\n"
     ]
    }
   ],
   "source": [
    "ls"
   ]
  },
  {
   "cell_type": "code",
   "execution_count": null,
   "id": "a1bd36f5-5f43-4229-9a65-16f82434c498",
   "metadata": {},
   "outputs": [],
   "source": []
  }
 ],
 "metadata": {
  "kernelspec": {
   "display_name": "Python 3 (ipykernel)",
   "language": "python",
   "name": "python3"
  },
  "language_info": {
   "codemirror_mode": {
    "name": "ipython",
    "version": 3
   },
   "file_extension": ".py",
   "mimetype": "text/x-python",
   "name": "python",
   "nbconvert_exporter": "python",
   "pygments_lexer": "ipython3",
   "version": "3.9.6"
  }
 },
 "nbformat": 4,
 "nbformat_minor": 5
}
