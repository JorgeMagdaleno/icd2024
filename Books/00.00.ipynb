{
 "cells": [
  {
   "cell_type": "markdown",
   "id": "822c94ea-e752-4e89-90bb-9e7462a7603e",
   "metadata": {},
   "source": [
    "Instalacion de requerimientos"
   ]
  },
  {
   "cell_type": "code",
   "execution_count": null,
   "id": "0bbd3251-6e47-4659-ad84-2d39931d9b1f",
   "metadata": {},
   "outputs": [],
   "source": [
    "$ conda install numpy pandas scikit-learn matplotlib seaborn jupyter"
   ]
  }
 ],
 "metadata": {
  "kernelspec": {
   "display_name": "Python 3 (ipykernel)",
   "language": "python",
   "name": "python3"
  },
  "language_info": {
   "codemirror_mode": {
    "name": "ipython",
    "version": 3
   },
   "file_extension": ".py",
   "mimetype": "text/x-python",
   "name": "python",
   "nbconvert_exporter": "python",
   "pygments_lexer": "ipython3",
   "version": "3.9.6"
  }
 },
 "nbformat": 4,
 "nbformat_minor": 5
}
