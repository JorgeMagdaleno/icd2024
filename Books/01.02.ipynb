{
 "cells": [
  {
   "cell_type": "markdown",
   "id": "3ff1bb71-5043-4401-8caa-f32a3b7f368e",
   "metadata": {},
   "source": [
    "Keystroke\tAction\n",
    "\n",
    "Backspace key\tDelete previous character in line\n",
    "Ctrl-d\tDelete next character in line\n",
    "Ctrl-k\tCut text from cursor to end of line\n",
    "Ctrl-u\tCut text from beginning of line to cursor\n",
    "Ctrl-y\tYank (i.e. paste) text that was previously cut\n",
    "Ctrl-t\tTranspose (i.e., switch) previous two characters"
   ]
  },
  {
   "cell_type": "markdown",
   "id": "99cc2d95-6611-4f2b-8340-85d3a1868edb",
   "metadata": {},
   "source": [
    "Keystroke\tAction\n",
    "\n",
    "Ctrl-p (or the up arrow key)\tAccess previous command in history\n",
    "Ctrl-n (or the down arrow key)\tAccess next command in history\n",
    "Ctrl-r\tReverse-search through command history"
   ]
  },
  {
   "cell_type": "code",
   "execution_count": 1,
   "id": "08aa9768-b2d4-4430-a2fd-feea35b36260",
   "metadata": {},
   "outputs": [
    {
     "data": {
      "text/plain": [
       "4"
      ]
     },
     "execution_count": 1,
     "metadata": {},
     "output_type": "execute_result"
    }
   ],
   "source": [
    "def square(a):\n",
    "    return a ** 2\n",
    "square(2)"
   ]
  },
  {
   "cell_type": "markdown",
   "id": "0c27c1bf-056f-434f-af2f-ef027eae79b2",
   "metadata": {},
   "source": [
    "Keystroke\tAction\n",
    "\n",
    "Ctrl-l\tClear terminal screen\n",
    "Ctrl-c\tInterrupt current Python command\n",
    "Ctrl-d\tExit IPython session"
   ]
  }
 ],
 "metadata": {
  "kernelspec": {
   "display_name": "Python 3 (ipykernel)",
   "language": "python",
   "name": "python3"
  },
  "language_info": {
   "codemirror_mode": {
    "name": "ipython",
    "version": 3
   },
   "file_extension": ".py",
   "mimetype": "text/x-python",
   "name": "python",
   "nbconvert_exporter": "python",
   "pygments_lexer": "ipython3",
   "version": "3.9.6"
  }
 },
 "nbformat": 4,
 "nbformat_minor": 5
}
