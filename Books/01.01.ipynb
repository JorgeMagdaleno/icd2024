{
 "cells": [
  {
   "cell_type": "code",
   "execution_count": 1,
   "id": "310f8ca3-0fa9-4c56-8956-5e826e429a21",
   "metadata": {},
   "outputs": [
    {
     "name": "stdout",
     "output_type": "stream",
     "text": [
      "Help on built-in function len in module builtins:\n",
      "\n",
      "len(obj, /)\n",
      "    Return the number of items in a container.\n",
      "\n"
     ]
    }
   ],
   "source": [
    "help(len)"
   ]
  },
  {
   "cell_type": "code",
   "execution_count": 2,
   "id": "e09245c6-1b28-4971-926a-fc01f224837e",
   "metadata": {},
   "outputs": [
    {
     "data": {
      "text/plain": [
       "\u001b[0;31mSignature:\u001b[0m \u001b[0mlen\u001b[0m\u001b[0;34m(\u001b[0m\u001b[0mobj\u001b[0m\u001b[0;34m,\u001b[0m \u001b[0;34m/\u001b[0m\u001b[0;34m)\u001b[0m\u001b[0;34m\u001b[0m\u001b[0;34m\u001b[0m\u001b[0m\n",
       "\u001b[0;31mDocstring:\u001b[0m Return the number of items in a container.\n",
       "\u001b[0;31mType:\u001b[0m      builtin_function_or_method"
      ]
     },
     "metadata": {},
     "output_type": "display_data"
    }
   ],
   "source": [
    "len?"
   ]
  },
  {
   "cell_type": "code",
   "execution_count": 3,
   "id": "30f50784-cf2d-4fa8-a7bc-2e91f8ab2704",
   "metadata": {},
   "outputs": [
    {
     "data": {
      "text/plain": [
       "\u001b[0;31mSignature:\u001b[0m \u001b[0mL\u001b[0m\u001b[0;34m.\u001b[0m\u001b[0minsert\u001b[0m\u001b[0;34m(\u001b[0m\u001b[0mindex\u001b[0m\u001b[0;34m,\u001b[0m \u001b[0mobject\u001b[0m\u001b[0;34m,\u001b[0m \u001b[0;34m/\u001b[0m\u001b[0;34m)\u001b[0m\u001b[0;34m\u001b[0m\u001b[0;34m\u001b[0m\u001b[0m\n",
       "\u001b[0;31mDocstring:\u001b[0m Insert object before index.\n",
       "\u001b[0;31mType:\u001b[0m      builtin_function_or_method"
      ]
     },
     "metadata": {},
     "output_type": "display_data"
    }
   ],
   "source": [
    "L = [1, 2, 3]\n",
    "L.insert?"
   ]
  },
  {
   "cell_type": "code",
   "execution_count": 4,
   "id": "e666b08f-bd7a-4fac-ae4c-d10aa437b3dc",
   "metadata": {},
   "outputs": [
    {
     "data": {
      "text/plain": [
       "\u001b[0;31mType:\u001b[0m        list\n",
       "\u001b[0;31mString form:\u001b[0m [1, 2, 3]\n",
       "\u001b[0;31mLength:\u001b[0m      3\n",
       "\u001b[0;31mDocstring:\u001b[0m  \n",
       "Built-in mutable sequence.\n",
       "\n",
       "If no argument is given, the constructor creates a new empty list.\n",
       "The argument must be an iterable if specified."
      ]
     },
     "metadata": {},
     "output_type": "display_data"
    }
   ],
   "source": [
    "L?"
   ]
  },
  {
   "cell_type": "code",
   "execution_count": 5,
   "id": "086807d7-8532-40ab-af72-41fc75b909fd",
   "metadata": {},
   "outputs": [],
   "source": [
    "def square(a):\n",
    "    return a ** 2"
   ]
  },
  {
   "cell_type": "code",
   "execution_count": 6,
   "id": "84f8a586-950e-4748-bcd0-58da2070bc9e",
   "metadata": {},
   "outputs": [
    {
     "data": {
      "text/plain": [
       "\u001b[0;31mSignature:\u001b[0m \u001b[0msquare\u001b[0m\u001b[0;34m(\u001b[0m\u001b[0ma\u001b[0m\u001b[0;34m)\u001b[0m\u001b[0;34m\u001b[0m\u001b[0;34m\u001b[0m\u001b[0m\n",
       "\u001b[0;31mDocstring:\u001b[0m <no docstring>\n",
       "\u001b[0;31mFile:\u001b[0m      /var/folders/x1/xs2knmd10t5759tsv29bkcv00000gn/T/ipykernel_72019/835473275.py\n",
       "\u001b[0;31mType:\u001b[0m      function"
      ]
     },
     "metadata": {},
     "output_type": "display_data"
    }
   ],
   "source": [
    "square?"
   ]
  },
  {
   "cell_type": "code",
   "execution_count": 7,
   "id": "7a84842b-ad07-4742-bede-de6b6dd08d8a",
   "metadata": {},
   "outputs": [
    {
     "data": {
      "text/plain": [
       "\u001b[0;31mSignature:\u001b[0m \u001b[0msquare\u001b[0m\u001b[0;34m(\u001b[0m\u001b[0ma\u001b[0m\u001b[0;34m)\u001b[0m\u001b[0;34m\u001b[0m\u001b[0;34m\u001b[0m\u001b[0m\n",
       "\u001b[0;31mDocstring:\u001b[0m <no docstring>\n",
       "\u001b[0;31mSource:\u001b[0m   \n",
       "\u001b[0;32mdef\u001b[0m \u001b[0msquare\u001b[0m\u001b[0;34m(\u001b[0m\u001b[0ma\u001b[0m\u001b[0;34m)\u001b[0m\u001b[0;34m:\u001b[0m\u001b[0;34m\u001b[0m\n",
       "\u001b[0;34m\u001b[0m    \u001b[0;32mreturn\u001b[0m \u001b[0ma\u001b[0m \u001b[0;34m**\u001b[0m \u001b[0;36m2\u001b[0m\u001b[0;34m\u001b[0m\u001b[0;34m\u001b[0m\u001b[0m\n",
       "\u001b[0;31mFile:\u001b[0m      /var/folders/x1/xs2knmd10t5759tsv29bkcv00000gn/T/ipykernel_72019/835473275.py\n",
       "\u001b[0;31mType:\u001b[0m      function"
      ]
     },
     "metadata": {},
     "output_type": "display_data"
    }
   ],
   "source": [
    "square??"
   ]
  },
  {
   "cell_type": "code",
   "execution_count": 8,
   "id": "fa6d4ceb-649c-49c3-8c50-76b546ae4ecb",
   "metadata": {},
   "outputs": [
    {
     "data": {
      "text/plain": [
       "\u001b[0;31mSignature:\u001b[0m \u001b[0mlen\u001b[0m\u001b[0;34m(\u001b[0m\u001b[0mobj\u001b[0m\u001b[0;34m,\u001b[0m \u001b[0;34m/\u001b[0m\u001b[0;34m)\u001b[0m\u001b[0;34m\u001b[0m\u001b[0;34m\u001b[0m\u001b[0m\n",
       "\u001b[0;31mDocstring:\u001b[0m Return the number of items in a container.\n",
       "\u001b[0;31mType:\u001b[0m      builtin_function_or_method"
      ]
     },
     "metadata": {},
     "output_type": "display_data"
    }
   ],
   "source": [
    "len??"
   ]
  },
  {
   "cell_type": "code",
   "execution_count": null,
   "id": "b84c7960-a671-4d9a-9e57-2d541472dc02",
   "metadata": {},
   "outputs": [],
   "source": [
    "import <TAB>"
   ]
  },
  {
   "cell_type": "code",
   "execution_count": null,
   "id": "09fe8cf0-ee3d-4f3b-894f-277da450c996",
   "metadata": {},
   "outputs": [],
   "source": [
    "from itertools import co<TAB>"
   ]
  },
  {
   "cell_type": "code",
   "execution_count": null,
   "id": "fa059836-5d3a-46c3-9546-5f6d629c5e23",
   "metadata": {},
   "outputs": [],
   "source": [
    "L.c<TAB>"
   ]
  },
  {
   "cell_type": "code",
   "execution_count": null,
   "id": "5f9b4e8b-2477-4c6a-a4a7-5f497fdb39a4",
   "metadata": {},
   "outputs": [],
   "source": [
    "L.cou<TAB>"
   ]
  },
  {
   "cell_type": "code",
   "execution_count": null,
   "id": "2af8e2ca-c600-4cef-b5d2-9fa2964103ca",
   "metadata": {},
   "outputs": [],
   "source": [
    "L._<TAB>"
   ]
  },
  {
   "cell_type": "code",
   "execution_count": null,
   "id": "693f6751-ec56-4b74-9f46-f189f35f5ba4",
   "metadata": {},
   "outputs": [],
   "source": [
    "*Warning?"
   ]
  },
  {
   "cell_type": "code",
   "execution_count": null,
   "id": "e01b1c40-1ad9-4a11-8214-307b09d8835d",
   "metadata": {},
   "outputs": [],
   "source": [
    "str.*find*?"
   ]
  }
 ],
 "metadata": {
  "kernelspec": {
   "display_name": "Python 3 (ipykernel)",
   "language": "python",
   "name": "python3"
  },
  "language_info": {
   "codemirror_mode": {
    "name": "ipython",
    "version": 3
   },
   "file_extension": ".py",
   "mimetype": "text/x-python",
   "name": "python",
   "nbconvert_exporter": "python",
   "pygments_lexer": "ipython3",
   "version": "3.9.6"
  }
 },
 "nbformat": 4,
 "nbformat_minor": 5
}
