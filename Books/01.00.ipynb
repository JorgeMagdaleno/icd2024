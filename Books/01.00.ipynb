{
 "cells": [
  {
   "cell_type": "markdown",
   "id": "2d0480a8-bc02-4cf0-be42-3f6591f1ff03",
   "metadata": {},
   "source": [
    "Instalar y correr Jupyter"
   ]
  },
  {
   "cell_type": "code",
   "execution_count": null,
   "id": "998d709a-a275-469c-8adf-9a411f276713",
   "metadata": {},
   "outputs": [],
   "source": [
    "$ jupyter notebook"
   ]
  },
  {
   "cell_type": "code",
   "execution_count": null,
   "id": "6684622e-6991-43e0-8c5d-1fb338f886ac",
   "metadata": {},
   "outputs": [],
   "source": [
    "$ jupyter notebook\n",
    "[NotebookApp] Serving notebooks from local directory: /Users/jakevdp/PythonDataScienceHandbook\n",
    "[NotebookApp] 0 active kernels \n",
    "[NotebookApp] The IPython Notebook is running at: http://localhost:8888/\n",
    "[NotebookApp] Use Control-C to stop this server and shut down all kernels (twice to skip confirmation)."
   ]
  }
 ],
 "metadata": {
  "kernelspec": {
   "display_name": "Python 3 (ipykernel)",
   "language": "python",
   "name": "python3"
  },
  "language_info": {
   "codemirror_mode": {
    "name": "ipython",
    "version": 3
   },
   "file_extension": ".py",
   "mimetype": "text/x-python",
   "name": "python",
   "nbconvert_exporter": "python",
   "pygments_lexer": "ipython3",
   "version": "3.9.6"
  }
 },
 "nbformat": 4,
 "nbformat_minor": 5
}
